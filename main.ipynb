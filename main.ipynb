{
 "cells": [
  {
   "cell_type": "code",
   "execution_count": 1,
   "id": "45239786-c991-4439-8623-3cdb092580bb",
   "metadata": {},
   "outputs": [
    {
     "name": "stdout",
     "output_type": "stream",
     "text": [
      "Done!\n"
     ]
    }
   ],
   "source": [
    "import os\n",
    "import glob\n",
    "import pandas as pd\n",
    "import matplotlib.pyplot as plt\n",
    "import numpy as np\n",
    "import random\n",
    "from datetime import datetime, timedelta\n",
    "from dateutil.relativedelta import relativedelta\n",
    "import pprint\n",
    "import pyspark\n",
    "import pyspark.sql.functions as F\n",
    "\n",
    "from pyspark.sql.functions import col\n",
    "from pyspark.sql.types import StringType, IntegerType, FloatType, DateType\n",
    "\n",
    "import utils.data_processing_bronze_table\n",
    "import utils.data_processing_silver_table\n",
    "import utils.data_processing_gold_table\n",
    "\n",
    "print('Done!')"
   ]
  },
  {
   "cell_type": "markdown",
   "id": "f17c466c-a6f1-4b53-b8a5-a7bbad7503cf",
   "metadata": {},
   "source": [
    "## Set up PySpark session"
   ]
  },
  {
   "cell_type": "code",
   "execution_count": 2,
   "id": "42e5226e-97b2-40cb-980f-5b4156586cda",
   "metadata": {},
   "outputs": [
    {
     "name": "stderr",
     "output_type": "stream",
     "text": [
      "Setting default log level to \"WARN\".\n",
      "To adjust logging level use sc.setLogLevel(newLevel). For SparkR, use setLogLevel(newLevel).\n",
      "25/05/21 03:38:40 WARN NativeCodeLoader: Unable to load native-hadoop library for your platform... using builtin-java classes where applicable\n"
     ]
    }
   ],
   "source": [
    "# Initialize SparkSession\n",
    "spark = pyspark.sql.SparkSession.builder \\\n",
    "    .appName(\"dev\") \\\n",
    "    .master(\"local[*]\") \\\n",
    "    .getOrCreate()\n",
    "\n",
    "# Set log level to ERROR to hide warnings\n",
    "spark.sparkContext.setLogLevel(\"ERROR\")"
   ]
  },
  {
   "cell_type": "markdown",
   "id": "48fb4049-2e73-4515-91ad-d5cfab7bddd7",
   "metadata": {},
   "source": [
    "## Set up Config"
   ]
  },
  {
   "cell_type": "code",
   "execution_count": 3,
   "id": "1afbc008-cf26-4a1b-8ed0-be87bdb9bc37",
   "metadata": {},
   "outputs": [],
   "source": [
    "# set up config\n",
    "snapshot_date_str = \"2023-01-01\"\n",
    "\n",
    "start_date_str = \"2023-01-01\"\n",
    "end_date_str = \"2025-12-01\""
   ]
  },
  {
   "cell_type": "code",
   "execution_count": 4,
   "id": "9d756f00-5721-4556-b9f0-cb7e79be981b",
   "metadata": {},
   "outputs": [
    {
     "data": {
      "text/plain": [
       "['2023-01-01',\n",
       " '2023-02-01',\n",
       " '2023-03-01',\n",
       " '2023-04-01',\n",
       " '2023-05-01',\n",
       " '2023-06-01',\n",
       " '2023-07-01',\n",
       " '2023-08-01',\n",
       " '2023-09-01',\n",
       " '2023-10-01',\n",
       " '2023-11-01',\n",
       " '2023-12-01',\n",
       " '2024-01-01',\n",
       " '2024-02-01',\n",
       " '2024-03-01',\n",
       " '2024-04-01',\n",
       " '2024-05-01',\n",
       " '2024-06-01',\n",
       " '2024-07-01',\n",
       " '2024-08-01',\n",
       " '2024-09-01',\n",
       " '2024-10-01',\n",
       " '2024-11-01',\n",
       " '2024-12-01',\n",
       " '2025-01-01',\n",
       " '2025-02-01',\n",
       " '2025-03-01',\n",
       " '2025-04-01',\n",
       " '2025-05-01',\n",
       " '2025-06-01',\n",
       " '2025-07-01',\n",
       " '2025-08-01',\n",
       " '2025-09-01',\n",
       " '2025-10-01',\n",
       " '2025-11-01',\n",
       " '2025-12-01']"
      ]
     },
     "execution_count": 4,
     "metadata": {},
     "output_type": "execute_result"
    }
   ],
   "source": [
    "# generate list of dates to process\n",
    "def generate_first_of_month_dates(start_date_str, end_date_str):\n",
    "    # Convert the date strings to datetime objects\n",
    "    start_date = datetime.strptime(start_date_str, \"%Y-%m-%d\")\n",
    "    end_date = datetime.strptime(end_date_str, \"%Y-%m-%d\")\n",
    "    \n",
    "    # List to store the first of month dates\n",
    "    first_of_month_dates = []\n",
    "\n",
    "    # Start from the first of the month of the start_date\n",
    "    current_date = datetime(start_date.year, start_date.month, 1)\n",
    "\n",
    "    while current_date <= end_date:\n",
    "        # Append the date in yyyy-mm-dd format\n",
    "        first_of_month_dates.append(current_date.strftime(\"%Y-%m-%d\"))\n",
    "        \n",
    "        # Move to the first of the next month\n",
    "        if current_date.month == 12:\n",
    "            current_date = datetime(current_date.year + 1, 1, 1)\n",
    "        else:\n",
    "            current_date = datetime(current_date.year, current_date.month + 1, 1)\n",
    "\n",
    "    return first_of_month_dates\n",
    "\n",
    "dates_str_lst = generate_first_of_month_dates(start_date_str, end_date_str)\n",
    "dates_str_lst"
   ]
  },
  {
   "cell_type": "markdown",
   "id": "b5e93bf0-93bb-4108-a188-75c19ce96163",
   "metadata": {},
   "source": [
    "## Build Bronze Table"
   ]
  },
  {
   "cell_type": "markdown",
   "id": "bd2d5ad2-ee7f-42f0-b9da-32569cd7d723",
   "metadata": {},
   "source": [
    "### LMS"
   ]
  },
  {
   "cell_type": "code",
   "execution_count": 5,
   "id": "28995123-265d-4893-b4c2-69059e16d767",
   "metadata": {},
   "outputs": [],
   "source": [
    "# create bronze datalake\n",
    "# create multiple csv files \n",
    "bronze_lms_directory = \"datamart/bronze/lms/\"\n",
    "\n",
    "if not os.path.exists(bronze_lms_directory):\n",
    "    os.makedirs(bronze_lms_directory)"
   ]
  },
  {
   "cell_type": "code",
   "execution_count": 6,
   "id": "c07daf5a-c080-4eb8-b50d-824f8949b072",
   "metadata": {},
   "outputs": [
    {
     "name": "stdout",
     "output_type": "stream",
     "text": [
      "2023-01-01row count: 530\n",
      "saved to: datamart/bronze/lms/bronze_loan_daily_2023_01_01.csv\n",
      "2023-02-01row count: 1031\n",
      "saved to: datamart/bronze/lms/bronze_loan_daily_2023_02_01.csv\n",
      "2023-03-01row count: 1537\n",
      "saved to: datamart/bronze/lms/bronze_loan_daily_2023_03_01.csv\n",
      "2023-04-01row count: 2047\n",
      "saved to: datamart/bronze/lms/bronze_loan_daily_2023_04_01.csv\n",
      "2023-05-01row count: 2568\n",
      "saved to: datamart/bronze/lms/bronze_loan_daily_2023_05_01.csv\n",
      "2023-06-01row count: 3085\n",
      "saved to: datamart/bronze/lms/bronze_loan_daily_2023_06_01.csv\n",
      "2023-07-01row count: 3556\n",
      "saved to: datamart/bronze/lms/bronze_loan_daily_2023_07_01.csv\n",
      "2023-08-01row count: 4037\n",
      "saved to: datamart/bronze/lms/bronze_loan_daily_2023_08_01.csv\n",
      "2023-09-01row count: 4491\n",
      "saved to: datamart/bronze/lms/bronze_loan_daily_2023_09_01.csv\n",
      "2023-10-01row count: 4978\n",
      "saved to: datamart/bronze/lms/bronze_loan_daily_2023_10_01.csv\n",
      "2023-11-01row count: 5469\n",
      "saved to: datamart/bronze/lms/bronze_loan_daily_2023_11_01.csv\n",
      "2023-12-01row count: 5428\n",
      "saved to: datamart/bronze/lms/bronze_loan_daily_2023_12_01.csv\n",
      "2024-01-01row count: 5412\n",
      "saved to: datamart/bronze/lms/bronze_loan_daily_2024_01_01.csv\n",
      "2024-02-01row count: 5424\n",
      "saved to: datamart/bronze/lms/bronze_loan_daily_2024_02_01.csv\n",
      "2024-03-01row count: 5425\n",
      "saved to: datamart/bronze/lms/bronze_loan_daily_2024_03_01.csv\n",
      "2024-04-01row count: 5417\n",
      "saved to: datamart/bronze/lms/bronze_loan_daily_2024_04_01.csv\n",
      "2024-05-01row count: 5391\n",
      "saved to: datamart/bronze/lms/bronze_loan_daily_2024_05_01.csv\n",
      "2024-06-01row count: 5418\n",
      "saved to: datamart/bronze/lms/bronze_loan_daily_2024_06_01.csv\n",
      "2024-07-01row count: 5442\n",
      "saved to: datamart/bronze/lms/bronze_loan_daily_2024_07_01.csv\n",
      "2024-08-01row count: 5531\n",
      "saved to: datamart/bronze/lms/bronze_loan_daily_2024_08_01.csv\n",
      "2024-09-01row count: 5537\n",
      "saved to: datamart/bronze/lms/bronze_loan_daily_2024_09_01.csv\n",
      "2024-10-01row count: 5502\n",
      "saved to: datamart/bronze/lms/bronze_loan_daily_2024_10_01.csv\n",
      "2024-11-01row count: 5501\n",
      "saved to: datamart/bronze/lms/bronze_loan_daily_2024_11_01.csv\n",
      "2024-12-01row count: 5531\n",
      "saved to: datamart/bronze/lms/bronze_loan_daily_2024_12_01.csv\n",
      "2025-01-01row count: 5539\n",
      "saved to: datamart/bronze/lms/bronze_loan_daily_2025_01_01.csv\n",
      "2025-02-01row count: 5028\n",
      "saved to: datamart/bronze/lms/bronze_loan_daily_2025_02_01.csv\n",
      "2025-03-01row count: 4515\n",
      "saved to: datamart/bronze/lms/bronze_loan_daily_2025_03_01.csv\n",
      "2025-04-01row count: 4024\n",
      "saved to: datamart/bronze/lms/bronze_loan_daily_2025_04_01.csv\n",
      "2025-05-01row count: 3526\n",
      "saved to: datamart/bronze/lms/bronze_loan_daily_2025_05_01.csv\n",
      "2025-06-01row count: 3021\n",
      "saved to: datamart/bronze/lms/bronze_loan_daily_2025_06_01.csv\n",
      "2025-07-01row count: 2478\n",
      "saved to: datamart/bronze/lms/bronze_loan_daily_2025_07_01.csv\n",
      "2025-08-01row count: 1985\n",
      "saved to: datamart/bronze/lms/bronze_loan_daily_2025_08_01.csv\n",
      "2025-09-01row count: 1529\n",
      "saved to: datamart/bronze/lms/bronze_loan_daily_2025_09_01.csv\n",
      "2025-10-01row count: 1041\n",
      "saved to: datamart/bronze/lms/bronze_loan_daily_2025_10_01.csv\n",
      "2025-11-01row count: 526\n",
      "saved to: datamart/bronze/lms/bronze_loan_daily_2025_11_01.csv\n",
      "2025-12-01row count: 0\n"
     ]
    }
   ],
   "source": [
    "# run bronze backfill\n",
    "for date_str in dates_str_lst:\n",
    "    utils.data_processing_bronze_table.process_bronze_table_lms(date_str, bronze_lms_directory, spark)"
   ]
  },
  {
   "cell_type": "code",
   "execution_count": 7,
   "id": "620d7915-164e-4f91-8031-e64136968da5",
   "metadata": {},
   "outputs": [
    {
     "name": "stdout",
     "output_type": "stream",
     "text": [
      "2023-01-01row count: 530\n",
      "saved to: datamart/bronze/lms/bronze_loan_daily_2023_01_01.csv\n"
     ]
    },
    {
     "data": {
      "text/html": [
       "<div>\n",
       "<style scoped>\n",
       "    .dataframe tbody tr th:only-of-type {\n",
       "        vertical-align: middle;\n",
       "    }\n",
       "\n",
       "    .dataframe tbody tr th {\n",
       "        vertical-align: top;\n",
       "    }\n",
       "\n",
       "    .dataframe thead th {\n",
       "        text-align: right;\n",
       "    }\n",
       "</style>\n",
       "<table border=\"1\" class=\"dataframe\">\n",
       "  <thead>\n",
       "    <tr style=\"text-align: right;\">\n",
       "      <th></th>\n",
       "      <th>loan_id</th>\n",
       "      <th>Customer_ID</th>\n",
       "      <th>loan_start_date</th>\n",
       "      <th>tenure</th>\n",
       "      <th>installment_num</th>\n",
       "      <th>loan_amt</th>\n",
       "      <th>due_amt</th>\n",
       "      <th>paid_amt</th>\n",
       "      <th>overdue_amt</th>\n",
       "      <th>balance</th>\n",
       "      <th>snapshot_date</th>\n",
       "    </tr>\n",
       "  </thead>\n",
       "  <tbody>\n",
       "    <tr>\n",
       "      <th>0</th>\n",
       "      <td>CUS_0x1037_2023_01_01</td>\n",
       "      <td>CUS_0x1037</td>\n",
       "      <td>2023-01-01</td>\n",
       "      <td>10</td>\n",
       "      <td>0</td>\n",
       "      <td>10000</td>\n",
       "      <td>0.0</td>\n",
       "      <td>0.0</td>\n",
       "      <td>0.0</td>\n",
       "      <td>10000.0</td>\n",
       "      <td>2023-01-01</td>\n",
       "    </tr>\n",
       "    <tr>\n",
       "      <th>1</th>\n",
       "      <td>CUS_0x1069_2023_01_01</td>\n",
       "      <td>CUS_0x1069</td>\n",
       "      <td>2023-01-01</td>\n",
       "      <td>10</td>\n",
       "      <td>0</td>\n",
       "      <td>10000</td>\n",
       "      <td>0.0</td>\n",
       "      <td>0.0</td>\n",
       "      <td>0.0</td>\n",
       "      <td>10000.0</td>\n",
       "      <td>2023-01-01</td>\n",
       "    </tr>\n",
       "    <tr>\n",
       "      <th>2</th>\n",
       "      <td>CUS_0x114a_2023_01_01</td>\n",
       "      <td>CUS_0x114a</td>\n",
       "      <td>2023-01-01</td>\n",
       "      <td>10</td>\n",
       "      <td>0</td>\n",
       "      <td>10000</td>\n",
       "      <td>0.0</td>\n",
       "      <td>0.0</td>\n",
       "      <td>0.0</td>\n",
       "      <td>10000.0</td>\n",
       "      <td>2023-01-01</td>\n",
       "    </tr>\n",
       "    <tr>\n",
       "      <th>3</th>\n",
       "      <td>CUS_0x1184_2023_01_01</td>\n",
       "      <td>CUS_0x1184</td>\n",
       "      <td>2023-01-01</td>\n",
       "      <td>10</td>\n",
       "      <td>0</td>\n",
       "      <td>10000</td>\n",
       "      <td>0.0</td>\n",
       "      <td>0.0</td>\n",
       "      <td>0.0</td>\n",
       "      <td>10000.0</td>\n",
       "      <td>2023-01-01</td>\n",
       "    </tr>\n",
       "    <tr>\n",
       "      <th>4</th>\n",
       "      <td>CUS_0x1297_2023_01_01</td>\n",
       "      <td>CUS_0x1297</td>\n",
       "      <td>2023-01-01</td>\n",
       "      <td>10</td>\n",
       "      <td>0</td>\n",
       "      <td>10000</td>\n",
       "      <td>0.0</td>\n",
       "      <td>0.0</td>\n",
       "      <td>0.0</td>\n",
       "      <td>10000.0</td>\n",
       "      <td>2023-01-01</td>\n",
       "    </tr>\n",
       "    <tr>\n",
       "      <th>...</th>\n",
       "      <td>...</td>\n",
       "      <td>...</td>\n",
       "      <td>...</td>\n",
       "      <td>...</td>\n",
       "      <td>...</td>\n",
       "      <td>...</td>\n",
       "      <td>...</td>\n",
       "      <td>...</td>\n",
       "      <td>...</td>\n",
       "      <td>...</td>\n",
       "      <td>...</td>\n",
       "    </tr>\n",
       "    <tr>\n",
       "      <th>525</th>\n",
       "      <td>CUS_0xe98_2023_01_01</td>\n",
       "      <td>CUS_0xe98</td>\n",
       "      <td>2023-01-01</td>\n",
       "      <td>10</td>\n",
       "      <td>0</td>\n",
       "      <td>10000</td>\n",
       "      <td>0.0</td>\n",
       "      <td>0.0</td>\n",
       "      <td>0.0</td>\n",
       "      <td>10000.0</td>\n",
       "      <td>2023-01-01</td>\n",
       "    </tr>\n",
       "    <tr>\n",
       "      <th>526</th>\n",
       "      <td>CUS_0xea6_2023_01_01</td>\n",
       "      <td>CUS_0xea6</td>\n",
       "      <td>2023-01-01</td>\n",
       "      <td>10</td>\n",
       "      <td>0</td>\n",
       "      <td>10000</td>\n",
       "      <td>0.0</td>\n",
       "      <td>0.0</td>\n",
       "      <td>0.0</td>\n",
       "      <td>10000.0</td>\n",
       "      <td>2023-01-01</td>\n",
       "    </tr>\n",
       "    <tr>\n",
       "      <th>527</th>\n",
       "      <td>CUS_0xed3_2023_01_01</td>\n",
       "      <td>CUS_0xed3</td>\n",
       "      <td>2023-01-01</td>\n",
       "      <td>10</td>\n",
       "      <td>0</td>\n",
       "      <td>10000</td>\n",
       "      <td>0.0</td>\n",
       "      <td>0.0</td>\n",
       "      <td>0.0</td>\n",
       "      <td>10000.0</td>\n",
       "      <td>2023-01-01</td>\n",
       "    </tr>\n",
       "    <tr>\n",
       "      <th>528</th>\n",
       "      <td>CUS_0xed8_2023_01_01</td>\n",
       "      <td>CUS_0xed8</td>\n",
       "      <td>2023-01-01</td>\n",
       "      <td>10</td>\n",
       "      <td>0</td>\n",
       "      <td>10000</td>\n",
       "      <td>0.0</td>\n",
       "      <td>0.0</td>\n",
       "      <td>0.0</td>\n",
       "      <td>10000.0</td>\n",
       "      <td>2023-01-01</td>\n",
       "    </tr>\n",
       "    <tr>\n",
       "      <th>529</th>\n",
       "      <td>CUS_0xfc9_2023_01_01</td>\n",
       "      <td>CUS_0xfc9</td>\n",
       "      <td>2023-01-01</td>\n",
       "      <td>10</td>\n",
       "      <td>0</td>\n",
       "      <td>10000</td>\n",
       "      <td>0.0</td>\n",
       "      <td>0.0</td>\n",
       "      <td>0.0</td>\n",
       "      <td>10000.0</td>\n",
       "      <td>2023-01-01</td>\n",
       "    </tr>\n",
       "  </tbody>\n",
       "</table>\n",
       "<p>530 rows × 11 columns</p>\n",
       "</div>"
      ],
      "text/plain": [
       "                   loan_id Customer_ID loan_start_date  tenure  \\\n",
       "0    CUS_0x1037_2023_01_01  CUS_0x1037      2023-01-01      10   \n",
       "1    CUS_0x1069_2023_01_01  CUS_0x1069      2023-01-01      10   \n",
       "2    CUS_0x114a_2023_01_01  CUS_0x114a      2023-01-01      10   \n",
       "3    CUS_0x1184_2023_01_01  CUS_0x1184      2023-01-01      10   \n",
       "4    CUS_0x1297_2023_01_01  CUS_0x1297      2023-01-01      10   \n",
       "..                     ...         ...             ...     ...   \n",
       "525   CUS_0xe98_2023_01_01   CUS_0xe98      2023-01-01      10   \n",
       "526   CUS_0xea6_2023_01_01   CUS_0xea6      2023-01-01      10   \n",
       "527   CUS_0xed3_2023_01_01   CUS_0xed3      2023-01-01      10   \n",
       "528   CUS_0xed8_2023_01_01   CUS_0xed8      2023-01-01      10   \n",
       "529   CUS_0xfc9_2023_01_01   CUS_0xfc9      2023-01-01      10   \n",
       "\n",
       "     installment_num  loan_amt  due_amt  paid_amt  overdue_amt  balance  \\\n",
       "0                  0     10000      0.0       0.0          0.0  10000.0   \n",
       "1                  0     10000      0.0       0.0          0.0  10000.0   \n",
       "2                  0     10000      0.0       0.0          0.0  10000.0   \n",
       "3                  0     10000      0.0       0.0          0.0  10000.0   \n",
       "4                  0     10000      0.0       0.0          0.0  10000.0   \n",
       "..               ...       ...      ...       ...          ...      ...   \n",
       "525                0     10000      0.0       0.0          0.0  10000.0   \n",
       "526                0     10000      0.0       0.0          0.0  10000.0   \n",
       "527                0     10000      0.0       0.0          0.0  10000.0   \n",
       "528                0     10000      0.0       0.0          0.0  10000.0   \n",
       "529                0     10000      0.0       0.0          0.0  10000.0   \n",
       "\n",
       "    snapshot_date  \n",
       "0      2023-01-01  \n",
       "1      2023-01-01  \n",
       "2      2023-01-01  \n",
       "3      2023-01-01  \n",
       "4      2023-01-01  \n",
       "..            ...  \n",
       "525    2023-01-01  \n",
       "526    2023-01-01  \n",
       "527    2023-01-01  \n",
       "528    2023-01-01  \n",
       "529    2023-01-01  \n",
       "\n",
       "[530 rows x 11 columns]"
      ]
     },
     "execution_count": 7,
     "metadata": {},
     "output_type": "execute_result"
    }
   ],
   "source": [
    "# inspect output\n",
    "utils.data_processing_bronze_table.process_bronze_table_lms(dates_str_lst[0], bronze_lms_directory, spark).toPandas()"
   ]
  },
  {
   "cell_type": "markdown",
   "id": "4b5779c8-bf87-4301-8760-c61afe31d3dd",
   "metadata": {},
   "source": [
    "### Features Attributes"
   ]
  },
  {
   "cell_type": "code",
   "execution_count": 8,
   "id": "f661417d-6088-453c-9cd1-4d35ee003201",
   "metadata": {},
   "outputs": [],
   "source": [
    "# create bronze datalake\n",
    "bronze_attributes_directory = \"datamart/bronze/attributes/\"\n",
    "\n",
    "if not os.path.exists(bronze_attributes_directory):\n",
    "    os.makedirs(bronze_attributes_directory)"
   ]
  },
  {
   "cell_type": "code",
   "execution_count": 9,
   "id": "ef527717-51f6-4371-b9d4-284e7e893a30",
   "metadata": {},
   "outputs": [
    {
     "name": "stdout",
     "output_type": "stream",
     "text": [
      "row count: 12500\n",
      "saved to: datamart/bronze/attributes/bronze_attributes.csv\n"
     ]
    },
    {
     "data": {
      "text/html": [
       "<div>\n",
       "<style scoped>\n",
       "    .dataframe tbody tr th:only-of-type {\n",
       "        vertical-align: middle;\n",
       "    }\n",
       "\n",
       "    .dataframe tbody tr th {\n",
       "        vertical-align: top;\n",
       "    }\n",
       "\n",
       "    .dataframe thead th {\n",
       "        text-align: right;\n",
       "    }\n",
       "</style>\n",
       "<table border=\"1\" class=\"dataframe\">\n",
       "  <thead>\n",
       "    <tr style=\"text-align: right;\">\n",
       "      <th></th>\n",
       "      <th>Customer_ID</th>\n",
       "      <th>Name</th>\n",
       "      <th>Age</th>\n",
       "      <th>SSN</th>\n",
       "      <th>Occupation</th>\n",
       "      <th>snapshot_date</th>\n",
       "    </tr>\n",
       "  </thead>\n",
       "  <tbody>\n",
       "    <tr>\n",
       "      <th>0</th>\n",
       "      <td>CUS_0x1000</td>\n",
       "      <td>Alistair Barrf</td>\n",
       "      <td>18</td>\n",
       "      <td>913-74-1218</td>\n",
       "      <td>Lawyer</td>\n",
       "      <td>2023-05-01</td>\n",
       "    </tr>\n",
       "    <tr>\n",
       "      <th>1</th>\n",
       "      <td>CUS_0x1009</td>\n",
       "      <td>Arunah</td>\n",
       "      <td>26</td>\n",
       "      <td>063-67-6938</td>\n",
       "      <td>Mechanic</td>\n",
       "      <td>2025-01-01</td>\n",
       "    </tr>\n",
       "    <tr>\n",
       "      <th>2</th>\n",
       "      <td>CUS_0x100b</td>\n",
       "      <td>Shirboni</td>\n",
       "      <td>19</td>\n",
       "      <td>#F%$D@*&amp;8</td>\n",
       "      <td>Media_Manager</td>\n",
       "      <td>2024-03-01</td>\n",
       "    </tr>\n",
       "    <tr>\n",
       "      <th>3</th>\n",
       "      <td>CUS_0x1011</td>\n",
       "      <td>Schneyerh</td>\n",
       "      <td>44</td>\n",
       "      <td>793-05-8223</td>\n",
       "      <td>Doctor</td>\n",
       "      <td>2023-11-01</td>\n",
       "    </tr>\n",
       "    <tr>\n",
       "      <th>4</th>\n",
       "      <td>CUS_0x1013</td>\n",
       "      <td>Cameront</td>\n",
       "      <td>44</td>\n",
       "      <td>930-49-9615</td>\n",
       "      <td>Mechanic</td>\n",
       "      <td>2023-12-01</td>\n",
       "    </tr>\n",
       "    <tr>\n",
       "      <th>...</th>\n",
       "      <td>...</td>\n",
       "      <td>...</td>\n",
       "      <td>...</td>\n",
       "      <td>...</td>\n",
       "      <td>...</td>\n",
       "      <td>...</td>\n",
       "    </tr>\n",
       "    <tr>\n",
       "      <th>12495</th>\n",
       "      <td>CUS_0xff3</td>\n",
       "      <td>Somervilled</td>\n",
       "      <td>55</td>\n",
       "      <td>#F%$D@*&amp;8</td>\n",
       "      <td>Scientist</td>\n",
       "      <td>2024-06-01</td>\n",
       "    </tr>\n",
       "    <tr>\n",
       "      <th>12496</th>\n",
       "      <td>CUS_0xff4</td>\n",
       "      <td>Poornimaf</td>\n",
       "      <td>37</td>\n",
       "      <td>655-05-7666</td>\n",
       "      <td>Entrepreneur</td>\n",
       "      <td>2024-12-01</td>\n",
       "    </tr>\n",
       "    <tr>\n",
       "      <th>12497</th>\n",
       "      <td>CUS_0xff6</td>\n",
       "      <td>Shieldsb</td>\n",
       "      <td>19</td>\n",
       "      <td>541-92-8371</td>\n",
       "      <td>Doctor</td>\n",
       "      <td>2024-10-01</td>\n",
       "    </tr>\n",
       "    <tr>\n",
       "      <th>12498</th>\n",
       "      <td>CUS_0xffc</td>\n",
       "      <td>Brads</td>\n",
       "      <td>18</td>\n",
       "      <td>226-86-7294</td>\n",
       "      <td>Musician</td>\n",
       "      <td>2024-01-01</td>\n",
       "    </tr>\n",
       "    <tr>\n",
       "      <th>12499</th>\n",
       "      <td>CUS_0xffd</td>\n",
       "      <td>Damouniq</td>\n",
       "      <td>30</td>\n",
       "      <td>832-88-8320</td>\n",
       "      <td>Scientist</td>\n",
       "      <td>2024-03-01</td>\n",
       "    </tr>\n",
       "  </tbody>\n",
       "</table>\n",
       "<p>12500 rows × 6 columns</p>\n",
       "</div>"
      ],
      "text/plain": [
       "      Customer_ID            Name Age          SSN     Occupation  \\\n",
       "0      CUS_0x1000  Alistair Barrf  18  913-74-1218         Lawyer   \n",
       "1      CUS_0x1009          Arunah  26  063-67-6938       Mechanic   \n",
       "2      CUS_0x100b        Shirboni  19    #F%$D@*&8  Media_Manager   \n",
       "3      CUS_0x1011       Schneyerh  44  793-05-8223         Doctor   \n",
       "4      CUS_0x1013        Cameront  44  930-49-9615       Mechanic   \n",
       "...           ...             ...  ..          ...            ...   \n",
       "12495   CUS_0xff3     Somervilled  55    #F%$D@*&8      Scientist   \n",
       "12496   CUS_0xff4       Poornimaf  37  655-05-7666   Entrepreneur   \n",
       "12497   CUS_0xff6        Shieldsb  19  541-92-8371         Doctor   \n",
       "12498   CUS_0xffc           Brads  18  226-86-7294       Musician   \n",
       "12499   CUS_0xffd        Damouniq  30  832-88-8320      Scientist   \n",
       "\n",
       "      snapshot_date  \n",
       "0        2023-05-01  \n",
       "1        2025-01-01  \n",
       "2        2024-03-01  \n",
       "3        2023-11-01  \n",
       "4        2023-12-01  \n",
       "...             ...  \n",
       "12495    2024-06-01  \n",
       "12496    2024-12-01  \n",
       "12497    2024-10-01  \n",
       "12498    2024-01-01  \n",
       "12499    2024-03-01  \n",
       "\n",
       "[12500 rows x 6 columns]"
      ]
     },
     "execution_count": 9,
     "metadata": {},
     "output_type": "execute_result"
    }
   ],
   "source": [
    "# No need to be partitioned\n",
    "utils.data_processing_bronze_table.process_bronze_table_attributes(bronze_attributes_directory, spark).toPandas()"
   ]
  },
  {
   "cell_type": "markdown",
   "id": "3b45e601-4168-4d47-a21a-d5394f95e78c",
   "metadata": {},
   "source": [
    "### Features Financials"
   ]
  },
  {
   "cell_type": "code",
   "execution_count": 10,
   "id": "799ae612-61e7-4f18-9bf3-6364b02fce98",
   "metadata": {},
   "outputs": [],
   "source": [
    "# create bronze datalake\n",
    "bronze_financials_directory = \"datamart/bronze/financials/\"\n",
    "\n",
    "if not os.path.exists(bronze_financials_directory):\n",
    "    os.makedirs(bronze_financials_directory)"
   ]
  },
  {
   "cell_type": "code",
   "execution_count": 11,
   "id": "116d3689-4bf5-4da8-b94d-db028895d3ae",
   "metadata": {},
   "outputs": [
    {
     "name": "stdout",
     "output_type": "stream",
     "text": [
      "row count: 12500\n",
      "saved to: datamart/bronze/financials/bronze_financials.csv\n"
     ]
    },
    {
     "data": {
      "text/html": [
       "<div>\n",
       "<style scoped>\n",
       "    .dataframe tbody tr th:only-of-type {\n",
       "        vertical-align: middle;\n",
       "    }\n",
       "\n",
       "    .dataframe tbody tr th {\n",
       "        vertical-align: top;\n",
       "    }\n",
       "\n",
       "    .dataframe thead th {\n",
       "        text-align: right;\n",
       "    }\n",
       "</style>\n",
       "<table border=\"1\" class=\"dataframe\">\n",
       "  <thead>\n",
       "    <tr style=\"text-align: right;\">\n",
       "      <th></th>\n",
       "      <th>Customer_ID</th>\n",
       "      <th>Annual_Income</th>\n",
       "      <th>Monthly_Inhand_Salary</th>\n",
       "      <th>Num_Bank_Accounts</th>\n",
       "      <th>Num_Credit_Card</th>\n",
       "      <th>Interest_Rate</th>\n",
       "      <th>Num_of_Loan</th>\n",
       "      <th>Type_of_Loan</th>\n",
       "      <th>Delay_from_due_date</th>\n",
       "      <th>Num_of_Delayed_Payment</th>\n",
       "      <th>...</th>\n",
       "      <th>Credit_Mix</th>\n",
       "      <th>Outstanding_Debt</th>\n",
       "      <th>Credit_Utilization_Ratio</th>\n",
       "      <th>Credit_History_Age</th>\n",
       "      <th>Payment_of_Min_Amount</th>\n",
       "      <th>Total_EMI_per_month</th>\n",
       "      <th>Amount_invested_monthly</th>\n",
       "      <th>Payment_Behaviour</th>\n",
       "      <th>Monthly_Balance</th>\n",
       "      <th>snapshot_date</th>\n",
       "    </tr>\n",
       "  </thead>\n",
       "  <tbody>\n",
       "    <tr>\n",
       "      <th>0</th>\n",
       "      <td>CUS_0x1000</td>\n",
       "      <td>30625.94</td>\n",
       "      <td>2706.161667</td>\n",
       "      <td>6</td>\n",
       "      <td>5</td>\n",
       "      <td>27</td>\n",
       "      <td>2</td>\n",
       "      <td>Credit-Builder Loan, and Home Equity Loan</td>\n",
       "      <td>57</td>\n",
       "      <td>26</td>\n",
       "      <td>...</td>\n",
       "      <td>Bad</td>\n",
       "      <td>1562.91</td>\n",
       "      <td>30.077191</td>\n",
       "      <td>10 Years and 9 Months</td>\n",
       "      <td>Yes</td>\n",
       "      <td>42.941090</td>\n",
       "      <td>77.31427572208112</td>\n",
       "      <td>High_spent_Medium_value_payments</td>\n",
       "      <td>400.36080052211616</td>\n",
       "      <td>2023-05-01</td>\n",
       "    </tr>\n",
       "    <tr>\n",
       "      <th>1</th>\n",
       "      <td>CUS_0x1009</td>\n",
       "      <td>52312.68_</td>\n",
       "      <td>4250.390000</td>\n",
       "      <td>6</td>\n",
       "      <td>5</td>\n",
       "      <td>17</td>\n",
       "      <td>4</td>\n",
       "      <td>Not Specified, Home Equity Loan, Credit-Builde...</td>\n",
       "      <td>5</td>\n",
       "      <td>18</td>\n",
       "      <td>...</td>\n",
       "      <td>_</td>\n",
       "      <td>202.68</td>\n",
       "      <td>40.286997</td>\n",
       "      <td>31 Years and 0 Months</td>\n",
       "      <td>Yes</td>\n",
       "      <td>108.366467</td>\n",
       "      <td>58.66019164829086</td>\n",
       "      <td>High_spent_Medium_value_payments</td>\n",
       "      <td>508.01234122645366</td>\n",
       "      <td>2025-01-01</td>\n",
       "    </tr>\n",
       "    <tr>\n",
       "      <th>2</th>\n",
       "      <td>CUS_0x100b</td>\n",
       "      <td>113781.38999999998</td>\n",
       "      <td>9549.782500</td>\n",
       "      <td>1</td>\n",
       "      <td>4</td>\n",
       "      <td>1</td>\n",
       "      <td>0</td>\n",
       "      <td>None</td>\n",
       "      <td>14</td>\n",
       "      <td>8</td>\n",
       "      <td>...</td>\n",
       "      <td>Good</td>\n",
       "      <td>1030.2</td>\n",
       "      <td>28.592943</td>\n",
       "      <td>15 Years and 10 Months</td>\n",
       "      <td>No</td>\n",
       "      <td>0.000000</td>\n",
       "      <td>617.0792665202719</td>\n",
       "      <td>High_spent_Small_value_payments</td>\n",
       "      <td>597.8989834797281</td>\n",
       "      <td>2024-03-01</td>\n",
       "    </tr>\n",
       "    <tr>\n",
       "      <th>3</th>\n",
       "      <td>CUS_0x1011</td>\n",
       "      <td>58918.47</td>\n",
       "      <td>5208.872500</td>\n",
       "      <td>3</td>\n",
       "      <td>3</td>\n",
       "      <td>17</td>\n",
       "      <td>3</td>\n",
       "      <td>Student Loan, Credit-Builder Loan, and Debt Co...</td>\n",
       "      <td>27</td>\n",
       "      <td>13</td>\n",
       "      <td>...</td>\n",
       "      <td>Standard</td>\n",
       "      <td>473.14</td>\n",
       "      <td>27.829959</td>\n",
       "      <td>15 Years and 10 Months</td>\n",
       "      <td>Yes</td>\n",
       "      <td>123.434939</td>\n",
       "      <td>383.35084463651407</td>\n",
       "      <td>Low_spent_Medium_value_payments</td>\n",
       "      <td>294.1014665671429</td>\n",
       "      <td>2023-11-01</td>\n",
       "    </tr>\n",
       "    <tr>\n",
       "      <th>4</th>\n",
       "      <td>CUS_0x1013</td>\n",
       "      <td>98620.98</td>\n",
       "      <td>7962.415000</td>\n",
       "      <td>3</td>\n",
       "      <td>3</td>\n",
       "      <td>6</td>\n",
       "      <td>3</td>\n",
       "      <td>Student Loan, Debt Consolidation Loan, and Per...</td>\n",
       "      <td>12</td>\n",
       "      <td>9</td>\n",
       "      <td>...</td>\n",
       "      <td>Good</td>\n",
       "      <td>1233.51</td>\n",
       "      <td>26.524864</td>\n",
       "      <td>17 Years and 10 Months</td>\n",
       "      <td>No</td>\n",
       "      <td>228.018084</td>\n",
       "      <td>332.3337079767732</td>\n",
       "      <td>High_spent_Medium_value_payments</td>\n",
       "      <td>485.8897083704929</td>\n",
       "      <td>2023-12-01</td>\n",
       "    </tr>\n",
       "    <tr>\n",
       "      <th>...</th>\n",
       "      <td>...</td>\n",
       "      <td>...</td>\n",
       "      <td>...</td>\n",
       "      <td>...</td>\n",
       "      <td>...</td>\n",
       "      <td>...</td>\n",
       "      <td>...</td>\n",
       "      <td>...</td>\n",
       "      <td>...</td>\n",
       "      <td>...</td>\n",
       "      <td>...</td>\n",
       "      <td>...</td>\n",
       "      <td>...</td>\n",
       "      <td>...</td>\n",
       "      <td>...</td>\n",
       "      <td>...</td>\n",
       "      <td>...</td>\n",
       "      <td>...</td>\n",
       "      <td>...</td>\n",
       "      <td>...</td>\n",
       "      <td>...</td>\n",
       "    </tr>\n",
       "    <tr>\n",
       "      <th>12495</th>\n",
       "      <td>CUS_0xff3</td>\n",
       "      <td>17032.785</td>\n",
       "      <td>1176.398750</td>\n",
       "      <td>0</td>\n",
       "      <td>6</td>\n",
       "      <td>2</td>\n",
       "      <td>3</td>\n",
       "      <td>Personal Loan, Mortgage Loan, and Auto Loan</td>\n",
       "      <td>13</td>\n",
       "      <td>7_</td>\n",
       "      <td>...</td>\n",
       "      <td>Good</td>\n",
       "      <td>1229.08</td>\n",
       "      <td>26.915577</td>\n",
       "      <td>17 Years and 3 Months</td>\n",
       "      <td>No</td>\n",
       "      <td>33.299764</td>\n",
       "      <td>81.19585741743609</td>\n",
       "      <td>Low_spent_Small_value_payments</td>\n",
       "      <td>293.14425404017936</td>\n",
       "      <td>2024-06-01</td>\n",
       "    </tr>\n",
       "    <tr>\n",
       "      <th>12496</th>\n",
       "      <td>CUS_0xff4</td>\n",
       "      <td>25546.26</td>\n",
       "      <td>2415.855000</td>\n",
       "      <td>8</td>\n",
       "      <td>7</td>\n",
       "      <td>14</td>\n",
       "      <td>5_</td>\n",
       "      <td>Not Specified, Student Loan, Student Loan, Cre...</td>\n",
       "      <td>15</td>\n",
       "      <td>13_</td>\n",
       "      <td>...</td>\n",
       "      <td>Standard</td>\n",
       "      <td>758.44</td>\n",
       "      <td>39.333488</td>\n",
       "      <td>18 Years and 9 Months</td>\n",
       "      <td>Yes</td>\n",
       "      <td>101.328637</td>\n",
       "      <td>189.81586133347676</td>\n",
       "      <td>Low_spent_Medium_value_payments</td>\n",
       "      <td>230.44100130267208</td>\n",
       "      <td>2024-12-01</td>\n",
       "    </tr>\n",
       "    <tr>\n",
       "      <th>12497</th>\n",
       "      <td>CUS_0xff6</td>\n",
       "      <td>117639.92</td>\n",
       "      <td>9727.326667</td>\n",
       "      <td>5</td>\n",
       "      <td>6</td>\n",
       "      <td>1</td>\n",
       "      <td>2</td>\n",
       "      <td>Home Equity Loan, and Auto Loan</td>\n",
       "      <td>-3</td>\n",
       "      <td>7</td>\n",
       "      <td>...</td>\n",
       "      <td>Good</td>\n",
       "      <td>338.3</td>\n",
       "      <td>32.871853</td>\n",
       "      <td>24 Years and 11 Months</td>\n",
       "      <td>No</td>\n",
       "      <td>126.638453</td>\n",
       "      <td>534.0885271982645</td>\n",
       "      <td>Low_spent_Medium_value_payments</td>\n",
       "      <td>592.0056861539196</td>\n",
       "      <td>2024-10-01</td>\n",
       "    </tr>\n",
       "    <tr>\n",
       "      <th>12498</th>\n",
       "      <td>CUS_0xffc</td>\n",
       "      <td>60877.17</td>\n",
       "      <td>5218.097500</td>\n",
       "      <td>6</td>\n",
       "      <td>8</td>\n",
       "      <td>27</td>\n",
       "      <td>8</td>\n",
       "      <td>Credit-Builder Loan, Payday Loan, Not Specifie...</td>\n",
       "      <td>46</td>\n",
       "      <td>14</td>\n",
       "      <td>...</td>\n",
       "      <td>_</td>\n",
       "      <td>1300.13</td>\n",
       "      <td>29.026498</td>\n",
       "      <td>13 Years and 1 Months</td>\n",
       "      <td>Yes</td>\n",
       "      <td>272.809169</td>\n",
       "      <td>46.4256138380274</td>\n",
       "      <td>High_spent_Large_value_payments</td>\n",
       "      <td>442.5749666782518</td>\n",
       "      <td>2024-01-01</td>\n",
       "    </tr>\n",
       "    <tr>\n",
       "      <th>12499</th>\n",
       "      <td>CUS_0xffd</td>\n",
       "      <td>41398.44</td>\n",
       "      <td>3749.870000</td>\n",
       "      <td>8</td>\n",
       "      <td>7</td>\n",
       "      <td>13</td>\n",
       "      <td>6</td>\n",
       "      <td>Auto Loan, Payday Loan, Payday Loan, Mortgage ...</td>\n",
       "      <td>23</td>\n",
       "      <td>11</td>\n",
       "      <td>...</td>\n",
       "      <td>Standard</td>\n",
       "      <td>1701.88</td>\n",
       "      <td>39.916655</td>\n",
       "      <td>18 Years and 9 Months</td>\n",
       "      <td>Yes</td>\n",
       "      <td>182.976649</td>\n",
       "      <td>42.57571978536272</td>\n",
       "      <td>High_spent_Large_value_payments</td>\n",
       "      <td>389.434630761722</td>\n",
       "      <td>2024-03-01</td>\n",
       "    </tr>\n",
       "  </tbody>\n",
       "</table>\n",
       "<p>12500 rows × 22 columns</p>\n",
       "</div>"
      ],
      "text/plain": [
       "      Customer_ID       Annual_Income  Monthly_Inhand_Salary  \\\n",
       "0      CUS_0x1000            30625.94            2706.161667   \n",
       "1      CUS_0x1009           52312.68_            4250.390000   \n",
       "2      CUS_0x100b  113781.38999999998            9549.782500   \n",
       "3      CUS_0x1011            58918.47            5208.872500   \n",
       "4      CUS_0x1013            98620.98            7962.415000   \n",
       "...           ...                 ...                    ...   \n",
       "12495   CUS_0xff3           17032.785            1176.398750   \n",
       "12496   CUS_0xff4            25546.26            2415.855000   \n",
       "12497   CUS_0xff6           117639.92            9727.326667   \n",
       "12498   CUS_0xffc            60877.17            5218.097500   \n",
       "12499   CUS_0xffd            41398.44            3749.870000   \n",
       "\n",
       "       Num_Bank_Accounts  Num_Credit_Card  Interest_Rate Num_of_Loan  \\\n",
       "0                      6                5             27           2   \n",
       "1                      6                5             17           4   \n",
       "2                      1                4              1           0   \n",
       "3                      3                3             17           3   \n",
       "4                      3                3              6           3   \n",
       "...                  ...              ...            ...         ...   \n",
       "12495                  0                6              2           3   \n",
       "12496                  8                7             14          5_   \n",
       "12497                  5                6              1           2   \n",
       "12498                  6                8             27           8   \n",
       "12499                  8                7             13           6   \n",
       "\n",
       "                                            Type_of_Loan  Delay_from_due_date  \\\n",
       "0              Credit-Builder Loan, and Home Equity Loan                   57   \n",
       "1      Not Specified, Home Equity Loan, Credit-Builde...                    5   \n",
       "2                                                   None                   14   \n",
       "3      Student Loan, Credit-Builder Loan, and Debt Co...                   27   \n",
       "4      Student Loan, Debt Consolidation Loan, and Per...                   12   \n",
       "...                                                  ...                  ...   \n",
       "12495        Personal Loan, Mortgage Loan, and Auto Loan                   13   \n",
       "12496  Not Specified, Student Loan, Student Loan, Cre...                   15   \n",
       "12497                    Home Equity Loan, and Auto Loan                   -3   \n",
       "12498  Credit-Builder Loan, Payday Loan, Not Specifie...                   46   \n",
       "12499  Auto Loan, Payday Loan, Payday Loan, Mortgage ...                   23   \n",
       "\n",
       "      Num_of_Delayed_Payment  ... Credit_Mix  Outstanding_Debt  \\\n",
       "0                         26  ...        Bad           1562.91   \n",
       "1                         18  ...          _            202.68   \n",
       "2                          8  ...       Good            1030.2   \n",
       "3                         13  ...   Standard            473.14   \n",
       "4                          9  ...       Good           1233.51   \n",
       "...                      ...  ...        ...               ...   \n",
       "12495                     7_  ...       Good           1229.08   \n",
       "12496                    13_  ...   Standard            758.44   \n",
       "12497                      7  ...       Good             338.3   \n",
       "12498                     14  ...          _           1300.13   \n",
       "12499                     11  ...   Standard           1701.88   \n",
       "\n",
       "      Credit_Utilization_Ratio      Credit_History_Age  Payment_of_Min_Amount  \\\n",
       "0                    30.077191   10 Years and 9 Months                    Yes   \n",
       "1                    40.286997   31 Years and 0 Months                    Yes   \n",
       "2                    28.592943  15 Years and 10 Months                     No   \n",
       "3                    27.829959  15 Years and 10 Months                    Yes   \n",
       "4                    26.524864  17 Years and 10 Months                     No   \n",
       "...                        ...                     ...                    ...   \n",
       "12495                26.915577   17 Years and 3 Months                     No   \n",
       "12496                39.333488   18 Years and 9 Months                    Yes   \n",
       "12497                32.871853  24 Years and 11 Months                     No   \n",
       "12498                29.026498   13 Years and 1 Months                    Yes   \n",
       "12499                39.916655   18 Years and 9 Months                    Yes   \n",
       "\n",
       "      Total_EMI_per_month Amount_invested_monthly  \\\n",
       "0               42.941090       77.31427572208112   \n",
       "1              108.366467       58.66019164829086   \n",
       "2                0.000000       617.0792665202719   \n",
       "3              123.434939      383.35084463651407   \n",
       "4              228.018084       332.3337079767732   \n",
       "...                   ...                     ...   \n",
       "12495           33.299764       81.19585741743609   \n",
       "12496          101.328637      189.81586133347676   \n",
       "12497          126.638453       534.0885271982645   \n",
       "12498          272.809169        46.4256138380274   \n",
       "12499          182.976649       42.57571978536272   \n",
       "\n",
       "                      Payment_Behaviour     Monthly_Balance snapshot_date  \n",
       "0      High_spent_Medium_value_payments  400.36080052211616    2023-05-01  \n",
       "1      High_spent_Medium_value_payments  508.01234122645366    2025-01-01  \n",
       "2       High_spent_Small_value_payments   597.8989834797281    2024-03-01  \n",
       "3       Low_spent_Medium_value_payments   294.1014665671429    2023-11-01  \n",
       "4      High_spent_Medium_value_payments   485.8897083704929    2023-12-01  \n",
       "...                                 ...                 ...           ...  \n",
       "12495    Low_spent_Small_value_payments  293.14425404017936    2024-06-01  \n",
       "12496   Low_spent_Medium_value_payments  230.44100130267208    2024-12-01  \n",
       "12497   Low_spent_Medium_value_payments   592.0056861539196    2024-10-01  \n",
       "12498   High_spent_Large_value_payments   442.5749666782518    2024-01-01  \n",
       "12499   High_spent_Large_value_payments    389.434630761722    2024-03-01  \n",
       "\n",
       "[12500 rows x 22 columns]"
      ]
     },
     "execution_count": 11,
     "metadata": {},
     "output_type": "execute_result"
    }
   ],
   "source": [
    "# No need to be partitioned\n",
    "utils.data_processing_bronze_table.process_bronze_table_financials(bronze_financials_directory, spark).toPandas()"
   ]
  },
  {
   "cell_type": "markdown",
   "id": "5712c947-cb93-493e-ae40-e1b7c86c54a4",
   "metadata": {},
   "source": [
    "## Build Silver Table"
   ]
  },
  {
   "cell_type": "markdown",
   "id": "3cd14e9d-37a1-4f03-8fed-1f339090f040",
   "metadata": {},
   "source": [
    "### LMS"
   ]
  },
  {
   "cell_type": "code",
   "execution_count": 12,
   "id": "4325c3c4-e5bc-4d5c-8b5d-aed567e5e9a7",
   "metadata": {},
   "outputs": [],
   "source": [
    "# create silver datalake\n",
    "silver_loan_daily_directory = \"datamart/silver/loan_daily/\"\n",
    "\n",
    "if not os.path.exists(silver_loan_daily_directory):\n",
    "    os.makedirs(silver_loan_daily_directory)"
   ]
  },
  {
   "cell_type": "code",
   "execution_count": 13,
   "id": "b680e557-3311-4f7f-8c64-e3a5786076e3",
   "metadata": {},
   "outputs": [
    {
     "name": "stdout",
     "output_type": "stream",
     "text": [
      "loaded from: datamart/bronze/lms/bronze_loan_daily_2023_01_01.csv row count: 530\n"
     ]
    },
    {
     "name": "stderr",
     "output_type": "stream",
     "text": [
      "                                                                                "
     ]
    },
    {
     "name": "stdout",
     "output_type": "stream",
     "text": [
      "saved to: datamart/silver/loan_daily/silver_loan_daily_2023_01_01.parquet\n",
      "loaded from: datamart/bronze/lms/bronze_loan_daily_2023_02_01.csv row count: 1031\n"
     ]
    },
    {
     "name": "stderr",
     "output_type": "stream",
     "text": [
      "                                                                                "
     ]
    },
    {
     "name": "stdout",
     "output_type": "stream",
     "text": [
      "saved to: datamart/silver/loan_daily/silver_loan_daily_2023_02_01.parquet\n",
      "loaded from: datamart/bronze/lms/bronze_loan_daily_2023_03_01.csv row count: 1537\n"
     ]
    },
    {
     "name": "stderr",
     "output_type": "stream",
     "text": [
      "                                                                                "
     ]
    },
    {
     "name": "stdout",
     "output_type": "stream",
     "text": [
      "saved to: datamart/silver/loan_daily/silver_loan_daily_2023_03_01.parquet\n",
      "loaded from: datamart/bronze/lms/bronze_loan_daily_2023_04_01.csv row count: 2047\n",
      "saved to: datamart/silver/loan_daily/silver_loan_daily_2023_04_01.parquet\n",
      "loaded from: datamart/bronze/lms/bronze_loan_daily_2023_05_01.csv row count: 2568\n"
     ]
    },
    {
     "name": "stderr",
     "output_type": "stream",
     "text": [
      "                                                                                "
     ]
    },
    {
     "name": "stdout",
     "output_type": "stream",
     "text": [
      "saved to: datamart/silver/loan_daily/silver_loan_daily_2023_05_01.parquet\n",
      "loaded from: datamart/bronze/lms/bronze_loan_daily_2023_06_01.csv row count: 3085\n"
     ]
    },
    {
     "name": "stderr",
     "output_type": "stream",
     "text": [
      "                                                                                "
     ]
    },
    {
     "name": "stdout",
     "output_type": "stream",
     "text": [
      "saved to: datamart/silver/loan_daily/silver_loan_daily_2023_06_01.parquet\n",
      "loaded from: datamart/bronze/lms/bronze_loan_daily_2023_07_01.csv row count: 3556\n",
      "saved to: datamart/silver/loan_daily/silver_loan_daily_2023_07_01.parquet\n",
      "loaded from: datamart/bronze/lms/bronze_loan_daily_2023_08_01.csv row count: 4037\n",
      "saved to: datamart/silver/loan_daily/silver_loan_daily_2023_08_01.parquet\n",
      "loaded from: datamart/bronze/lms/bronze_loan_daily_2023_09_01.csv row count: 4491\n"
     ]
    },
    {
     "name": "stderr",
     "output_type": "stream",
     "text": [
      "                                                                                "
     ]
    },
    {
     "name": "stdout",
     "output_type": "stream",
     "text": [
      "saved to: datamart/silver/loan_daily/silver_loan_daily_2023_09_01.parquet\n",
      "loaded from: datamart/bronze/lms/bronze_loan_daily_2023_10_01.csv row count: 4978\n",
      "saved to: datamart/silver/loan_daily/silver_loan_daily_2023_10_01.parquet\n",
      "loaded from: datamart/bronze/lms/bronze_loan_daily_2023_11_01.csv row count: 5469\n",
      "saved to: datamart/silver/loan_daily/silver_loan_daily_2023_11_01.parquet\n",
      "loaded from: datamart/bronze/lms/bronze_loan_daily_2023_12_01.csv row count: 5428\n"
     ]
    },
    {
     "name": "stderr",
     "output_type": "stream",
     "text": [
      "                                                                                "
     ]
    },
    {
     "name": "stdout",
     "output_type": "stream",
     "text": [
      "saved to: datamart/silver/loan_daily/silver_loan_daily_2023_12_01.parquet\n",
      "loaded from: datamart/bronze/lms/bronze_loan_daily_2024_01_01.csv row count: 5412\n"
     ]
    },
    {
     "name": "stderr",
     "output_type": "stream",
     "text": [
      "                                                                                "
     ]
    },
    {
     "name": "stdout",
     "output_type": "stream",
     "text": [
      "saved to: datamart/silver/loan_daily/silver_loan_daily_2024_01_01.parquet\n",
      "loaded from: datamart/bronze/lms/bronze_loan_daily_2024_02_01.csv row count: 5424\n",
      "saved to: datamart/silver/loan_daily/silver_loan_daily_2024_02_01.parquet\n",
      "loaded from: datamart/bronze/lms/bronze_loan_daily_2024_03_01.csv row count: 5425\n",
      "saved to: datamart/silver/loan_daily/silver_loan_daily_2024_03_01.parquet\n",
      "loaded from: datamart/bronze/lms/bronze_loan_daily_2024_04_01.csv row count: 5417\n"
     ]
    },
    {
     "name": "stderr",
     "output_type": "stream",
     "text": [
      "                                                                                "
     ]
    },
    {
     "name": "stdout",
     "output_type": "stream",
     "text": [
      "saved to: datamart/silver/loan_daily/silver_loan_daily_2024_04_01.parquet\n",
      "loaded from: datamart/bronze/lms/bronze_loan_daily_2024_05_01.csv row count: 5391\n"
     ]
    },
    {
     "name": "stderr",
     "output_type": "stream",
     "text": [
      "                                                                                "
     ]
    },
    {
     "name": "stdout",
     "output_type": "stream",
     "text": [
      "saved to: datamart/silver/loan_daily/silver_loan_daily_2024_05_01.parquet\n",
      "loaded from: datamart/bronze/lms/bronze_loan_daily_2024_06_01.csv row count: 5418\n"
     ]
    },
    {
     "name": "stderr",
     "output_type": "stream",
     "text": [
      "                                                                                "
     ]
    },
    {
     "name": "stdout",
     "output_type": "stream",
     "text": [
      "saved to: datamart/silver/loan_daily/silver_loan_daily_2024_06_01.parquet\n",
      "loaded from: datamart/bronze/lms/bronze_loan_daily_2024_07_01.csv row count: 5442\n"
     ]
    },
    {
     "name": "stderr",
     "output_type": "stream",
     "text": [
      "                                                                                "
     ]
    },
    {
     "name": "stdout",
     "output_type": "stream",
     "text": [
      "saved to: datamart/silver/loan_daily/silver_loan_daily_2024_07_01.parquet\n",
      "loaded from: datamart/bronze/lms/bronze_loan_daily_2024_08_01.csv row count: 5531\n"
     ]
    },
    {
     "name": "stderr",
     "output_type": "stream",
     "text": [
      "                                                                                "
     ]
    },
    {
     "name": "stdout",
     "output_type": "stream",
     "text": [
      "saved to: datamart/silver/loan_daily/silver_loan_daily_2024_08_01.parquet\n",
      "loaded from: datamart/bronze/lms/bronze_loan_daily_2024_09_01.csv row count: 5537\n",
      "saved to: datamart/silver/loan_daily/silver_loan_daily_2024_09_01.parquet\n",
      "loaded from: datamart/bronze/lms/bronze_loan_daily_2024_10_01.csv row count: 5502\n"
     ]
    },
    {
     "name": "stderr",
     "output_type": "stream",
     "text": [
      "                                                                                "
     ]
    },
    {
     "name": "stdout",
     "output_type": "stream",
     "text": [
      "saved to: datamart/silver/loan_daily/silver_loan_daily_2024_10_01.parquet\n",
      "loaded from: datamart/bronze/lms/bronze_loan_daily_2024_11_01.csv row count: 5501\n"
     ]
    },
    {
     "name": "stderr",
     "output_type": "stream",
     "text": [
      "                                                                                "
     ]
    },
    {
     "name": "stdout",
     "output_type": "stream",
     "text": [
      "saved to: datamart/silver/loan_daily/silver_loan_daily_2024_11_01.parquet\n",
      "loaded from: datamart/bronze/lms/bronze_loan_daily_2024_12_01.csv row count: 5531\n",
      "saved to: datamart/silver/loan_daily/silver_loan_daily_2024_12_01.parquet\n",
      "loaded from: datamart/bronze/lms/bronze_loan_daily_2025_01_01.csv row count: 5539\n"
     ]
    },
    {
     "name": "stderr",
     "output_type": "stream",
     "text": [
      "                                                                                "
     ]
    },
    {
     "name": "stdout",
     "output_type": "stream",
     "text": [
      "saved to: datamart/silver/loan_daily/silver_loan_daily_2025_01_01.parquet\n",
      "loaded from: datamart/bronze/lms/bronze_loan_daily_2025_02_01.csv row count: 5028\n"
     ]
    },
    {
     "name": "stderr",
     "output_type": "stream",
     "text": [
      "                                                                                "
     ]
    },
    {
     "name": "stdout",
     "output_type": "stream",
     "text": [
      "saved to: datamart/silver/loan_daily/silver_loan_daily_2025_02_01.parquet\n",
      "loaded from: datamart/bronze/lms/bronze_loan_daily_2025_03_01.csv row count: 4515\n"
     ]
    },
    {
     "name": "stderr",
     "output_type": "stream",
     "text": [
      "                                                                                "
     ]
    },
    {
     "name": "stdout",
     "output_type": "stream",
     "text": [
      "saved to: datamart/silver/loan_daily/silver_loan_daily_2025_03_01.parquet\n",
      "loaded from: datamart/bronze/lms/bronze_loan_daily_2025_04_01.csv row count: 4024\n"
     ]
    },
    {
     "name": "stderr",
     "output_type": "stream",
     "text": [
      "                                                                                "
     ]
    },
    {
     "name": "stdout",
     "output_type": "stream",
     "text": [
      "saved to: datamart/silver/loan_daily/silver_loan_daily_2025_04_01.parquet\n",
      "loaded from: datamart/bronze/lms/bronze_loan_daily_2025_05_01.csv row count: 3526\n",
      "saved to: datamart/silver/loan_daily/silver_loan_daily_2025_05_01.parquet\n",
      "loaded from: datamart/bronze/lms/bronze_loan_daily_2025_06_01.csv row count: 3021\n",
      "saved to: datamart/silver/loan_daily/silver_loan_daily_2025_06_01.parquet\n",
      "loaded from: datamart/bronze/lms/bronze_loan_daily_2025_07_01.csv row count: 2478\n",
      "saved to: datamart/silver/loan_daily/silver_loan_daily_2025_07_01.parquet\n",
      "loaded from: datamart/bronze/lms/bronze_loan_daily_2025_08_01.csv row count: 1985\n"
     ]
    },
    {
     "name": "stderr",
     "output_type": "stream",
     "text": [
      "                                                                                "
     ]
    },
    {
     "name": "stdout",
     "output_type": "stream",
     "text": [
      "saved to: datamart/silver/loan_daily/silver_loan_daily_2025_08_01.parquet\n",
      "loaded from: datamart/bronze/lms/bronze_loan_daily_2025_09_01.csv row count: 1529\n",
      "saved to: datamart/silver/loan_daily/silver_loan_daily_2025_09_01.parquet\n",
      "loaded from: datamart/bronze/lms/bronze_loan_daily_2025_10_01.csv row count: 1041\n"
     ]
    },
    {
     "name": "stderr",
     "output_type": "stream",
     "text": [
      "                                                                                "
     ]
    },
    {
     "name": "stdout",
     "output_type": "stream",
     "text": [
      "saved to: datamart/silver/loan_daily/silver_loan_daily_2025_10_01.parquet\n",
      "loaded from: datamart/bronze/lms/bronze_loan_daily_2025_11_01.csv row count: 526\n",
      "saved to: datamart/silver/loan_daily/silver_loan_daily_2025_11_01.parquet\n",
      "No record found on Date: 2025-12-01\n"
     ]
    }
   ],
   "source": [
    "# run silver backfill\n",
    "for date_str in dates_str_lst:\n",
    "    utils.data_processing_silver_table.process_silver_table_lms(date_str, bronze_lms_directory, silver_loan_daily_directory, spark)"
   ]
  },
  {
   "cell_type": "code",
   "execution_count": 14,
   "id": "eb85c98f-c330-4a47-894d-d480dfaddc46",
   "metadata": {},
   "outputs": [
    {
     "name": "stdout",
     "output_type": "stream",
     "text": [
      "loaded from: datamart/bronze/lms/bronze_loan_daily_2023_01_01.csv row count: 530\n"
     ]
    },
    {
     "name": "stderr",
     "output_type": "stream",
     "text": [
      "                                                                                "
     ]
    },
    {
     "name": "stdout",
     "output_type": "stream",
     "text": [
      "saved to: datamart/silver/loan_daily/silver_loan_daily_2023_01_01.parquet\n"
     ]
    },
    {
     "data": {
      "text/html": [
       "<div>\n",
       "<style scoped>\n",
       "    .dataframe tbody tr th:only-of-type {\n",
       "        vertical-align: middle;\n",
       "    }\n",
       "\n",
       "    .dataframe tbody tr th {\n",
       "        vertical-align: top;\n",
       "    }\n",
       "\n",
       "    .dataframe thead th {\n",
       "        text-align: right;\n",
       "    }\n",
       "</style>\n",
       "<table border=\"1\" class=\"dataframe\">\n",
       "  <thead>\n",
       "    <tr style=\"text-align: right;\">\n",
       "      <th></th>\n",
       "      <th>loan_id</th>\n",
       "      <th>Customer_ID</th>\n",
       "      <th>loan_start_date</th>\n",
       "      <th>tenure</th>\n",
       "      <th>installment_num</th>\n",
       "      <th>loan_amt</th>\n",
       "      <th>due_amt</th>\n",
       "      <th>paid_amt</th>\n",
       "      <th>overdue_amt</th>\n",
       "      <th>balance</th>\n",
       "      <th>snapshot_date</th>\n",
       "      <th>mob</th>\n",
       "      <th>installments_missed</th>\n",
       "      <th>first_missed_date</th>\n",
       "      <th>dpd</th>\n",
       "    </tr>\n",
       "  </thead>\n",
       "  <tbody>\n",
       "    <tr>\n",
       "      <th>0</th>\n",
       "      <td>CUS_0x1037_2023_01_01</td>\n",
       "      <td>CUS_0x1037</td>\n",
       "      <td>2023-01-01</td>\n",
       "      <td>10</td>\n",
       "      <td>0</td>\n",
       "      <td>10000.0</td>\n",
       "      <td>0.0</td>\n",
       "      <td>0.0</td>\n",
       "      <td>0.0</td>\n",
       "      <td>10000.0</td>\n",
       "      <td>2023-01-01</td>\n",
       "      <td>0</td>\n",
       "      <td>0</td>\n",
       "      <td>None</td>\n",
       "      <td>0</td>\n",
       "    </tr>\n",
       "    <tr>\n",
       "      <th>1</th>\n",
       "      <td>CUS_0x1069_2023_01_01</td>\n",
       "      <td>CUS_0x1069</td>\n",
       "      <td>2023-01-01</td>\n",
       "      <td>10</td>\n",
       "      <td>0</td>\n",
       "      <td>10000.0</td>\n",
       "      <td>0.0</td>\n",
       "      <td>0.0</td>\n",
       "      <td>0.0</td>\n",
       "      <td>10000.0</td>\n",
       "      <td>2023-01-01</td>\n",
       "      <td>0</td>\n",
       "      <td>0</td>\n",
       "      <td>None</td>\n",
       "      <td>0</td>\n",
       "    </tr>\n",
       "    <tr>\n",
       "      <th>2</th>\n",
       "      <td>CUS_0x114a_2023_01_01</td>\n",
       "      <td>CUS_0x114a</td>\n",
       "      <td>2023-01-01</td>\n",
       "      <td>10</td>\n",
       "      <td>0</td>\n",
       "      <td>10000.0</td>\n",
       "      <td>0.0</td>\n",
       "      <td>0.0</td>\n",
       "      <td>0.0</td>\n",
       "      <td>10000.0</td>\n",
       "      <td>2023-01-01</td>\n",
       "      <td>0</td>\n",
       "      <td>0</td>\n",
       "      <td>None</td>\n",
       "      <td>0</td>\n",
       "    </tr>\n",
       "    <tr>\n",
       "      <th>3</th>\n",
       "      <td>CUS_0x1184_2023_01_01</td>\n",
       "      <td>CUS_0x1184</td>\n",
       "      <td>2023-01-01</td>\n",
       "      <td>10</td>\n",
       "      <td>0</td>\n",
       "      <td>10000.0</td>\n",
       "      <td>0.0</td>\n",
       "      <td>0.0</td>\n",
       "      <td>0.0</td>\n",
       "      <td>10000.0</td>\n",
       "      <td>2023-01-01</td>\n",
       "      <td>0</td>\n",
       "      <td>0</td>\n",
       "      <td>None</td>\n",
       "      <td>0</td>\n",
       "    </tr>\n",
       "    <tr>\n",
       "      <th>4</th>\n",
       "      <td>CUS_0x1297_2023_01_01</td>\n",
       "      <td>CUS_0x1297</td>\n",
       "      <td>2023-01-01</td>\n",
       "      <td>10</td>\n",
       "      <td>0</td>\n",
       "      <td>10000.0</td>\n",
       "      <td>0.0</td>\n",
       "      <td>0.0</td>\n",
       "      <td>0.0</td>\n",
       "      <td>10000.0</td>\n",
       "      <td>2023-01-01</td>\n",
       "      <td>0</td>\n",
       "      <td>0</td>\n",
       "      <td>None</td>\n",
       "      <td>0</td>\n",
       "    </tr>\n",
       "    <tr>\n",
       "      <th>...</th>\n",
       "      <td>...</td>\n",
       "      <td>...</td>\n",
       "      <td>...</td>\n",
       "      <td>...</td>\n",
       "      <td>...</td>\n",
       "      <td>...</td>\n",
       "      <td>...</td>\n",
       "      <td>...</td>\n",
       "      <td>...</td>\n",
       "      <td>...</td>\n",
       "      <td>...</td>\n",
       "      <td>...</td>\n",
       "      <td>...</td>\n",
       "      <td>...</td>\n",
       "      <td>...</td>\n",
       "    </tr>\n",
       "    <tr>\n",
       "      <th>525</th>\n",
       "      <td>CUS_0xe98_2023_01_01</td>\n",
       "      <td>CUS_0xe98</td>\n",
       "      <td>2023-01-01</td>\n",
       "      <td>10</td>\n",
       "      <td>0</td>\n",
       "      <td>10000.0</td>\n",
       "      <td>0.0</td>\n",
       "      <td>0.0</td>\n",
       "      <td>0.0</td>\n",
       "      <td>10000.0</td>\n",
       "      <td>2023-01-01</td>\n",
       "      <td>0</td>\n",
       "      <td>0</td>\n",
       "      <td>None</td>\n",
       "      <td>0</td>\n",
       "    </tr>\n",
       "    <tr>\n",
       "      <th>526</th>\n",
       "      <td>CUS_0xea6_2023_01_01</td>\n",
       "      <td>CUS_0xea6</td>\n",
       "      <td>2023-01-01</td>\n",
       "      <td>10</td>\n",
       "      <td>0</td>\n",
       "      <td>10000.0</td>\n",
       "      <td>0.0</td>\n",
       "      <td>0.0</td>\n",
       "      <td>0.0</td>\n",
       "      <td>10000.0</td>\n",
       "      <td>2023-01-01</td>\n",
       "      <td>0</td>\n",
       "      <td>0</td>\n",
       "      <td>None</td>\n",
       "      <td>0</td>\n",
       "    </tr>\n",
       "    <tr>\n",
       "      <th>527</th>\n",
       "      <td>CUS_0xed3_2023_01_01</td>\n",
       "      <td>CUS_0xed3</td>\n",
       "      <td>2023-01-01</td>\n",
       "      <td>10</td>\n",
       "      <td>0</td>\n",
       "      <td>10000.0</td>\n",
       "      <td>0.0</td>\n",
       "      <td>0.0</td>\n",
       "      <td>0.0</td>\n",
       "      <td>10000.0</td>\n",
       "      <td>2023-01-01</td>\n",
       "      <td>0</td>\n",
       "      <td>0</td>\n",
       "      <td>None</td>\n",
       "      <td>0</td>\n",
       "    </tr>\n",
       "    <tr>\n",
       "      <th>528</th>\n",
       "      <td>CUS_0xed8_2023_01_01</td>\n",
       "      <td>CUS_0xed8</td>\n",
       "      <td>2023-01-01</td>\n",
       "      <td>10</td>\n",
       "      <td>0</td>\n",
       "      <td>10000.0</td>\n",
       "      <td>0.0</td>\n",
       "      <td>0.0</td>\n",
       "      <td>0.0</td>\n",
       "      <td>10000.0</td>\n",
       "      <td>2023-01-01</td>\n",
       "      <td>0</td>\n",
       "      <td>0</td>\n",
       "      <td>None</td>\n",
       "      <td>0</td>\n",
       "    </tr>\n",
       "    <tr>\n",
       "      <th>529</th>\n",
       "      <td>CUS_0xfc9_2023_01_01</td>\n",
       "      <td>CUS_0xfc9</td>\n",
       "      <td>2023-01-01</td>\n",
       "      <td>10</td>\n",
       "      <td>0</td>\n",
       "      <td>10000.0</td>\n",
       "      <td>0.0</td>\n",
       "      <td>0.0</td>\n",
       "      <td>0.0</td>\n",
       "      <td>10000.0</td>\n",
       "      <td>2023-01-01</td>\n",
       "      <td>0</td>\n",
       "      <td>0</td>\n",
       "      <td>None</td>\n",
       "      <td>0</td>\n",
       "    </tr>\n",
       "  </tbody>\n",
       "</table>\n",
       "<p>530 rows × 15 columns</p>\n",
       "</div>"
      ],
      "text/plain": [
       "                   loan_id Customer_ID loan_start_date  tenure  \\\n",
       "0    CUS_0x1037_2023_01_01  CUS_0x1037      2023-01-01      10   \n",
       "1    CUS_0x1069_2023_01_01  CUS_0x1069      2023-01-01      10   \n",
       "2    CUS_0x114a_2023_01_01  CUS_0x114a      2023-01-01      10   \n",
       "3    CUS_0x1184_2023_01_01  CUS_0x1184      2023-01-01      10   \n",
       "4    CUS_0x1297_2023_01_01  CUS_0x1297      2023-01-01      10   \n",
       "..                     ...         ...             ...     ...   \n",
       "525   CUS_0xe98_2023_01_01   CUS_0xe98      2023-01-01      10   \n",
       "526   CUS_0xea6_2023_01_01   CUS_0xea6      2023-01-01      10   \n",
       "527   CUS_0xed3_2023_01_01   CUS_0xed3      2023-01-01      10   \n",
       "528   CUS_0xed8_2023_01_01   CUS_0xed8      2023-01-01      10   \n",
       "529   CUS_0xfc9_2023_01_01   CUS_0xfc9      2023-01-01      10   \n",
       "\n",
       "     installment_num  loan_amt  due_amt  paid_amt  overdue_amt  balance  \\\n",
       "0                  0   10000.0      0.0       0.0          0.0  10000.0   \n",
       "1                  0   10000.0      0.0       0.0          0.0  10000.0   \n",
       "2                  0   10000.0      0.0       0.0          0.0  10000.0   \n",
       "3                  0   10000.0      0.0       0.0          0.0  10000.0   \n",
       "4                  0   10000.0      0.0       0.0          0.0  10000.0   \n",
       "..               ...       ...      ...       ...          ...      ...   \n",
       "525                0   10000.0      0.0       0.0          0.0  10000.0   \n",
       "526                0   10000.0      0.0       0.0          0.0  10000.0   \n",
       "527                0   10000.0      0.0       0.0          0.0  10000.0   \n",
       "528                0   10000.0      0.0       0.0          0.0  10000.0   \n",
       "529                0   10000.0      0.0       0.0          0.0  10000.0   \n",
       "\n",
       "    snapshot_date  mob  installments_missed first_missed_date  dpd  \n",
       "0      2023-01-01    0                    0              None    0  \n",
       "1      2023-01-01    0                    0              None    0  \n",
       "2      2023-01-01    0                    0              None    0  \n",
       "3      2023-01-01    0                    0              None    0  \n",
       "4      2023-01-01    0                    0              None    0  \n",
       "..            ...  ...                  ...               ...  ...  \n",
       "525    2023-01-01    0                    0              None    0  \n",
       "526    2023-01-01    0                    0              None    0  \n",
       "527    2023-01-01    0                    0              None    0  \n",
       "528    2023-01-01    0                    0              None    0  \n",
       "529    2023-01-01    0                    0              None    0  \n",
       "\n",
       "[530 rows x 15 columns]"
      ]
     },
     "execution_count": 14,
     "metadata": {},
     "output_type": "execute_result"
    }
   ],
   "source": [
    "utils.data_processing_silver_table.process_silver_table_lms(dates_str_lst[0], bronze_lms_directory, silver_loan_daily_directory, spark).toPandas()"
   ]
  },
  {
   "cell_type": "markdown",
   "id": "73c79fc8-7c1a-453c-b945-221d272ced5c",
   "metadata": {},
   "source": [
    "### Features Attributes + Financials (Customer)"
   ]
  },
  {
   "cell_type": "code",
   "execution_count": 15,
   "id": "ddc82bb6-4727-40a6-93f9-2d57fcc06563",
   "metadata": {},
   "outputs": [],
   "source": [
    "# create silver datalake\n",
    "silver_customer_directory = \"datamart/silver/customer/\"\n",
    "\n",
    "if not os.path.exists(silver_customer_directory):\n",
    "    os.makedirs(silver_customer_directory)"
   ]
  },
  {
   "cell_type": "code",
   "execution_count": 16,
   "id": "495f540f-cb26-4cf5-afe1-7def82b2dfe2",
   "metadata": {},
   "outputs": [
    {
     "name": "stdout",
     "output_type": "stream",
     "text": [
      "loaded from: datamart/bronze/attributes/bronze_attributes.csv row count: 12500\n",
      "loaded from: datamart/bronze/financials/bronze_financials.csv row count: 12500\n",
      "12500\n"
     ]
    },
    {
     "name": "stderr",
     "output_type": "stream",
     "text": [
      "                                                                                "
     ]
    },
    {
     "name": "stdout",
     "output_type": "stream",
     "text": [
      "saved to: datamart/silver/customer/silver_customer.parquet\n"
     ]
    },
    {
     "data": {
      "text/html": [
       "<div>\n",
       "<style scoped>\n",
       "    .dataframe tbody tr th:only-of-type {\n",
       "        vertical-align: middle;\n",
       "    }\n",
       "\n",
       "    .dataframe tbody tr th {\n",
       "        vertical-align: top;\n",
       "    }\n",
       "\n",
       "    .dataframe thead th {\n",
       "        text-align: right;\n",
       "    }\n",
       "</style>\n",
       "<table border=\"1\" class=\"dataframe\">\n",
       "  <thead>\n",
       "    <tr style=\"text-align: right;\">\n",
       "      <th></th>\n",
       "      <th>Customer_ID</th>\n",
       "      <th>snapshot_date</th>\n",
       "      <th>Name</th>\n",
       "      <th>Age</th>\n",
       "      <th>SSN</th>\n",
       "      <th>Occupation</th>\n",
       "      <th>Annual_Income</th>\n",
       "      <th>Monthly_Inhand_Salary</th>\n",
       "      <th>Num_Bank_Accounts</th>\n",
       "      <th>Num_Credit_Card</th>\n",
       "      <th>...</th>\n",
       "      <th>months</th>\n",
       "      <th>Credit_History_Months</th>\n",
       "      <th>spending_scale</th>\n",
       "      <th>value_payments_scale</th>\n",
       "      <th>Credit_Mix_scale</th>\n",
       "      <th>is_payment_min_amount_yes</th>\n",
       "      <th>is_payment_min_amount_no</th>\n",
       "      <th>debt_to_income_ratio</th>\n",
       "      <th>income_to_emi_ratio</th>\n",
       "      <th>emi_to_balance_ratio</th>\n",
       "    </tr>\n",
       "  </thead>\n",
       "  <tbody>\n",
       "    <tr>\n",
       "      <th>0</th>\n",
       "      <td>CUS_0x1000</td>\n",
       "      <td>2023-05-01</td>\n",
       "      <td>Alistair Barrf</td>\n",
       "      <td>18</td>\n",
       "      <td>913-74-1218</td>\n",
       "      <td>Lawyer</td>\n",
       "      <td>30625.939453</td>\n",
       "      <td>2706.161621</td>\n",
       "      <td>6</td>\n",
       "      <td>5</td>\n",
       "      <td>...</td>\n",
       "      <td>9</td>\n",
       "      <td>129</td>\n",
       "      <td>2</td>\n",
       "      <td>2</td>\n",
       "      <td>1</td>\n",
       "      <td>1</td>\n",
       "      <td>0</td>\n",
       "      <td>0.051031</td>\n",
       "      <td>61.586129</td>\n",
       "      <td>0.106989</td>\n",
       "    </tr>\n",
       "    <tr>\n",
       "      <th>1</th>\n",
       "      <td>CUS_0x1009</td>\n",
       "      <td>2025-01-01</td>\n",
       "      <td>Arunah</td>\n",
       "      <td>26</td>\n",
       "      <td>063-67-6938</td>\n",
       "      <td>Mechanic</td>\n",
       "      <td>52312.679688</td>\n",
       "      <td>4250.390137</td>\n",
       "      <td>6</td>\n",
       "      <td>5</td>\n",
       "      <td>...</td>\n",
       "      <td>0</td>\n",
       "      <td>372</td>\n",
       "      <td>2</td>\n",
       "      <td>2</td>\n",
       "      <td>0</td>\n",
       "      <td>1</td>\n",
       "      <td>0</td>\n",
       "      <td>0.003874</td>\n",
       "      <td>38.863741</td>\n",
       "      <td>0.212896</td>\n",
       "    </tr>\n",
       "    <tr>\n",
       "      <th>2</th>\n",
       "      <td>CUS_0x100b</td>\n",
       "      <td>2024-03-01</td>\n",
       "      <td>Shirboni</td>\n",
       "      <td>19</td>\n",
       "      <td>#F%$D@*&amp;8</td>\n",
       "      <td>Media_Manager</td>\n",
       "      <td>113781.390625</td>\n",
       "      <td>9549.782227</td>\n",
       "      <td>1</td>\n",
       "      <td>4</td>\n",
       "      <td>...</td>\n",
       "      <td>10</td>\n",
       "      <td>190</td>\n",
       "      <td>2</td>\n",
       "      <td>1</td>\n",
       "      <td>3</td>\n",
       "      <td>0</td>\n",
       "      <td>1</td>\n",
       "      <td>0.009054</td>\n",
       "      <td>9549.782500</td>\n",
       "      <td>0.000000</td>\n",
       "    </tr>\n",
       "    <tr>\n",
       "      <th>3</th>\n",
       "      <td>CUS_0x1011</td>\n",
       "      <td>2023-11-01</td>\n",
       "      <td>Schneyerh</td>\n",
       "      <td>44</td>\n",
       "      <td>793-05-8223</td>\n",
       "      <td>Doctor</td>\n",
       "      <td>58918.468750</td>\n",
       "      <td>5208.872559</td>\n",
       "      <td>3</td>\n",
       "      <td>3</td>\n",
       "      <td>...</td>\n",
       "      <td>10</td>\n",
       "      <td>190</td>\n",
       "      <td>1</td>\n",
       "      <td>2</td>\n",
       "      <td>2</td>\n",
       "      <td>1</td>\n",
       "      <td>0</td>\n",
       "      <td>0.008030</td>\n",
       "      <td>41.860209</td>\n",
       "      <td>0.418280</td>\n",
       "    </tr>\n",
       "    <tr>\n",
       "      <th>4</th>\n",
       "      <td>CUS_0x1013</td>\n",
       "      <td>2023-12-01</td>\n",
       "      <td>Cameront</td>\n",
       "      <td>44</td>\n",
       "      <td>930-49-9615</td>\n",
       "      <td>Mechanic</td>\n",
       "      <td>98620.976562</td>\n",
       "      <td>7962.415039</td>\n",
       "      <td>3</td>\n",
       "      <td>3</td>\n",
       "      <td>...</td>\n",
       "      <td>10</td>\n",
       "      <td>214</td>\n",
       "      <td>2</td>\n",
       "      <td>2</td>\n",
       "      <td>3</td>\n",
       "      <td>0</td>\n",
       "      <td>1</td>\n",
       "      <td>0.012507</td>\n",
       "      <td>34.767626</td>\n",
       "      <td>0.468316</td>\n",
       "    </tr>\n",
       "    <tr>\n",
       "      <th>...</th>\n",
       "      <td>...</td>\n",
       "      <td>...</td>\n",
       "      <td>...</td>\n",
       "      <td>...</td>\n",
       "      <td>...</td>\n",
       "      <td>...</td>\n",
       "      <td>...</td>\n",
       "      <td>...</td>\n",
       "      <td>...</td>\n",
       "      <td>...</td>\n",
       "      <td>...</td>\n",
       "      <td>...</td>\n",
       "      <td>...</td>\n",
       "      <td>...</td>\n",
       "      <td>...</td>\n",
       "      <td>...</td>\n",
       "      <td>...</td>\n",
       "      <td>...</td>\n",
       "      <td>...</td>\n",
       "      <td>...</td>\n",
       "      <td>...</td>\n",
       "    </tr>\n",
       "    <tr>\n",
       "      <th>12495</th>\n",
       "      <td>CUS_0xff3</td>\n",
       "      <td>2024-06-01</td>\n",
       "      <td>Somervilled</td>\n",
       "      <td>55</td>\n",
       "      <td>#F%$D@*&amp;8</td>\n",
       "      <td>Scientist</td>\n",
       "      <td>17032.785156</td>\n",
       "      <td>1176.398804</td>\n",
       "      <td>0</td>\n",
       "      <td>6</td>\n",
       "      <td>...</td>\n",
       "      <td>3</td>\n",
       "      <td>207</td>\n",
       "      <td>1</td>\n",
       "      <td>1</td>\n",
       "      <td>3</td>\n",
       "      <td>0</td>\n",
       "      <td>1</td>\n",
       "      <td>0.072155</td>\n",
       "      <td>34.297576</td>\n",
       "      <td>0.113209</td>\n",
       "    </tr>\n",
       "    <tr>\n",
       "      <th>12496</th>\n",
       "      <td>CUS_0xff4</td>\n",
       "      <td>2024-12-01</td>\n",
       "      <td>Poornimaf</td>\n",
       "      <td>37</td>\n",
       "      <td>655-05-7666</td>\n",
       "      <td>Entrepreneur</td>\n",
       "      <td>25546.259766</td>\n",
       "      <td>2415.854980</td>\n",
       "      <td>8</td>\n",
       "      <td>7</td>\n",
       "      <td>...</td>\n",
       "      <td>9</td>\n",
       "      <td>225</td>\n",
       "      <td>1</td>\n",
       "      <td>2</td>\n",
       "      <td>2</td>\n",
       "      <td>1</td>\n",
       "      <td>0</td>\n",
       "      <td>0.029688</td>\n",
       "      <td>23.608787</td>\n",
       "      <td>0.437816</td>\n",
       "    </tr>\n",
       "    <tr>\n",
       "      <th>12497</th>\n",
       "      <td>CUS_0xff6</td>\n",
       "      <td>2024-10-01</td>\n",
       "      <td>Shieldsb</td>\n",
       "      <td>19</td>\n",
       "      <td>541-92-8371</td>\n",
       "      <td>Doctor</td>\n",
       "      <td>117639.921875</td>\n",
       "      <td>9727.327148</td>\n",
       "      <td>5</td>\n",
       "      <td>6</td>\n",
       "      <td>...</td>\n",
       "      <td>11</td>\n",
       "      <td>299</td>\n",
       "      <td>1</td>\n",
       "      <td>2</td>\n",
       "      <td>3</td>\n",
       "      <td>0</td>\n",
       "      <td>1</td>\n",
       "      <td>0.002876</td>\n",
       "      <td>76.210001</td>\n",
       "      <td>0.213554</td>\n",
       "    </tr>\n",
       "    <tr>\n",
       "      <th>12498</th>\n",
       "      <td>CUS_0xffc</td>\n",
       "      <td>2024-01-01</td>\n",
       "      <td>Brads</td>\n",
       "      <td>18</td>\n",
       "      <td>226-86-7294</td>\n",
       "      <td>Musician</td>\n",
       "      <td>60877.171875</td>\n",
       "      <td>5218.097656</td>\n",
       "      <td>6</td>\n",
       "      <td>8</td>\n",
       "      <td>...</td>\n",
       "      <td>1</td>\n",
       "      <td>157</td>\n",
       "      <td>2</td>\n",
       "      <td>3</td>\n",
       "      <td>0</td>\n",
       "      <td>1</td>\n",
       "      <td>0</td>\n",
       "      <td>0.021356</td>\n",
       "      <td>19.057424</td>\n",
       "      <td>0.615024</td>\n",
       "    </tr>\n",
       "    <tr>\n",
       "      <th>12499</th>\n",
       "      <td>CUS_0xffd</td>\n",
       "      <td>2024-03-01</td>\n",
       "      <td>Damouniq</td>\n",
       "      <td>30</td>\n",
       "      <td>832-88-8320</td>\n",
       "      <td>Scientist</td>\n",
       "      <td>41398.441406</td>\n",
       "      <td>3749.870117</td>\n",
       "      <td>8</td>\n",
       "      <td>7</td>\n",
       "      <td>...</td>\n",
       "      <td>9</td>\n",
       "      <td>225</td>\n",
       "      <td>2</td>\n",
       "      <td>3</td>\n",
       "      <td>2</td>\n",
       "      <td>1</td>\n",
       "      <td>0</td>\n",
       "      <td>0.041109</td>\n",
       "      <td>20.382315</td>\n",
       "      <td>0.468649</td>\n",
       "    </tr>\n",
       "  </tbody>\n",
       "</table>\n",
       "<p>12500 rows × 37 columns</p>\n",
       "</div>"
      ],
      "text/plain": [
       "      Customer_ID snapshot_date            Name  Age          SSN  \\\n",
       "0      CUS_0x1000    2023-05-01  Alistair Barrf   18  913-74-1218   \n",
       "1      CUS_0x1009    2025-01-01          Arunah   26  063-67-6938   \n",
       "2      CUS_0x100b    2024-03-01        Shirboni   19    #F%$D@*&8   \n",
       "3      CUS_0x1011    2023-11-01       Schneyerh   44  793-05-8223   \n",
       "4      CUS_0x1013    2023-12-01        Cameront   44  930-49-9615   \n",
       "...           ...           ...             ...  ...          ...   \n",
       "12495   CUS_0xff3    2024-06-01     Somervilled   55    #F%$D@*&8   \n",
       "12496   CUS_0xff4    2024-12-01       Poornimaf   37  655-05-7666   \n",
       "12497   CUS_0xff6    2024-10-01        Shieldsb   19  541-92-8371   \n",
       "12498   CUS_0xffc    2024-01-01           Brads   18  226-86-7294   \n",
       "12499   CUS_0xffd    2024-03-01        Damouniq   30  832-88-8320   \n",
       "\n",
       "          Occupation  Annual_Income  Monthly_Inhand_Salary  Num_Bank_Accounts  \\\n",
       "0             Lawyer   30625.939453            2706.161621                  6   \n",
       "1           Mechanic   52312.679688            4250.390137                  6   \n",
       "2      Media_Manager  113781.390625            9549.782227                  1   \n",
       "3             Doctor   58918.468750            5208.872559                  3   \n",
       "4           Mechanic   98620.976562            7962.415039                  3   \n",
       "...              ...            ...                    ...                ...   \n",
       "12495      Scientist   17032.785156            1176.398804                  0   \n",
       "12496   Entrepreneur   25546.259766            2415.854980                  8   \n",
       "12497         Doctor  117639.921875            9727.327148                  5   \n",
       "12498       Musician   60877.171875            5218.097656                  6   \n",
       "12499      Scientist   41398.441406            3749.870117                  8   \n",
       "\n",
       "       Num_Credit_Card  ...  months  Credit_History_Months spending_scale  \\\n",
       "0                    5  ...       9                    129              2   \n",
       "1                    5  ...       0                    372              2   \n",
       "2                    4  ...      10                    190              2   \n",
       "3                    3  ...      10                    190              1   \n",
       "4                    3  ...      10                    214              2   \n",
       "...                ...  ...     ...                    ...            ...   \n",
       "12495                6  ...       3                    207              1   \n",
       "12496                7  ...       9                    225              1   \n",
       "12497                6  ...      11                    299              1   \n",
       "12498                8  ...       1                    157              2   \n",
       "12499                7  ...       9                    225              2   \n",
       "\n",
       "       value_payments_scale  Credit_Mix_scale  is_payment_min_amount_yes  \\\n",
       "0                         2                 1                          1   \n",
       "1                         2                 0                          1   \n",
       "2                         1                 3                          0   \n",
       "3                         2                 2                          1   \n",
       "4                         2                 3                          0   \n",
       "...                     ...               ...                        ...   \n",
       "12495                     1                 3                          0   \n",
       "12496                     2                 2                          1   \n",
       "12497                     2                 3                          0   \n",
       "12498                     3                 0                          1   \n",
       "12499                     3                 2                          1   \n",
       "\n",
       "       is_payment_min_amount_no debt_to_income_ratio  income_to_emi_ratio  \\\n",
       "0                             0             0.051031            61.586129   \n",
       "1                             0             0.003874            38.863741   \n",
       "2                             1             0.009054          9549.782500   \n",
       "3                             0             0.008030            41.860209   \n",
       "4                             1             0.012507            34.767626   \n",
       "...                         ...                  ...                  ...   \n",
       "12495                         1             0.072155            34.297576   \n",
       "12496                         0             0.029688            23.608787   \n",
       "12497                         1             0.002876            76.210001   \n",
       "12498                         0             0.021356            19.057424   \n",
       "12499                         0             0.041109            20.382315   \n",
       "\n",
       "       emi_to_balance_ratio  \n",
       "0                  0.106989  \n",
       "1                  0.212896  \n",
       "2                  0.000000  \n",
       "3                  0.418280  \n",
       "4                  0.468316  \n",
       "...                     ...  \n",
       "12495              0.113209  \n",
       "12496              0.437816  \n",
       "12497              0.213554  \n",
       "12498              0.615024  \n",
       "12499              0.468649  \n",
       "\n",
       "[12500 rows x 37 columns]"
      ]
     },
     "execution_count": 16,
     "metadata": {},
     "output_type": "execute_result"
    }
   ],
   "source": [
    "utils.data_processing_silver_table.process_silver_table_customer(bronze_attributes_directory, bronze_financials_directory, silver_customer_directory, spark).toPandas()"
   ]
  },
  {
   "cell_type": "markdown",
   "id": "1ce494fa-7d24-44e9-a1d8-70d6bceb7bd1",
   "metadata": {},
   "source": [
    "## EDA on credit labels"
   ]
  },
  {
   "cell_type": "code",
   "execution_count": 17,
   "id": "c78a63b6-6283-4dcb-b52b-ef1cd6e37a54",
   "metadata": {},
   "outputs": [
    {
     "name": "stderr",
     "output_type": "stream",
     "text": [
      "                                                                                "
     ]
    },
    {
     "data": {
      "image/png": "[encoded data removed]",
      "text/plain": [
       "<Figure size 640x480 with 1 Axes>"
      ]
     },
     "metadata": {},
     "output_type": "display_data"
    }
   ],
   "source": [
    "# set dpd label definition\n",
    "dpd = 30\n",
    "\n",
    "# Path to the folder containing CSV files\n",
    "folder_path = silver_loan_daily_directory\n",
    "\n",
    "# Read all CSV files into a single DataFrame\n",
    "files_list = [folder_path+os.path.basename(f) for f in glob.glob(os.path.join(folder_path, '*'))]\n",
    "df = spark.read.option(\"header\", \"true\").parquet(*files_list)\n",
    "\n",
    "# filter only completed loans\n",
    "df = df.filter(col(\"loan_start_date\") < datetime.strptime(\"2024-01-01\", \"%Y-%m-%d\"))\n",
    "\n",
    "# create dpd flag if more than dpd\n",
    "df = df.withColumn(\"dpd_flag\", F.when(col(\"dpd\") >= dpd, 1).otherwise(0))\n",
    "\n",
    "# actual bads \n",
    "actual_bads_df = df.filter(col(\"installment_num\") == 10)\n",
    "\n",
    "\n",
    "# visualise bad rate\n",
    "pdf = df.toPandas()\n",
    "\n",
    "# Group by col_A and count occurrences in col_B\n",
    "grouped = pdf.groupby('mob')['dpd_flag'].mean()\n",
    "\n",
    "# Sort the index (x-axis) of the grouped DataFrame\n",
    "grouped = grouped.sort_index()\n",
    "\n",
    "# Plotting\n",
    "grouped.plot(kind='line', marker='o')\n",
    "\n",
    "plt.title('DPD: '+ str(dpd))\n",
    "plt.xlabel('mob')\n",
    "plt.ylabel('bad rate')\n",
    "plt.grid(True)\n",
    "plt.show()\n"
   ]
  },
  {
   "cell_type": "code",
   "execution_count": 18,
   "id": "d2fa0a13-c150-4611-9cb7-d47af09ce171",
   "metadata": {},
   "outputs": [
    {
     "name": "stdout",
     "output_type": "stream",
     "text": [
      "+--------------------+-----------+---------------+------+---------------+--------+-------+--------+-----------+-------+-------------+---+-------------------+-----------------+---+--------+\n",
      "|             loan_id|Customer_ID|loan_start_date|tenure|installment_num|loan_amt|due_amt|paid_amt|overdue_amt|balance|snapshot_date|mob|installments_missed|first_missed_date|dpd|dpd_flag|\n",
      "+--------------------+-----------+---------------+------+---------------+--------+-------+--------+-----------+-------+-------------+---+-------------------+-----------------+---+--------+\n",
      "|CUS_0x1011_2023_1...| CUS_0x1011|     2023-11-01|    10|             10| 10000.0| 1000.0|  1000.0|        0.0|    0.0|   2024-09-01| 10|                  0|             NULL|  0|       0|\n",
      "|CUS_0x1013_2023_1...| CUS_0x1013|     2023-12-01|    10|              9| 10000.0| 1000.0|  1000.0|        0.0| 1000.0|   2024-09-01|  9|                  0|             NULL|  0|       0|\n",
      "|CUS_0x1018_2023_1...| CUS_0x1018|     2023-11-01|    10|             10| 10000.0| 1000.0|     0.0|     7000.0| 7000.0|   2024-09-01| 10|                  7|       2024-02-01|213|       1|\n",
      "|CUS_0x1041_2023_1...| CUS_0x1041|     2023-11-01|    10|             10| 10000.0| 1000.0|  1000.0|        0.0|    0.0|   2024-09-01| 10|                  0|             NULL|  0|       0|\n",
      "|CUS_0x104a_2023_1...| CUS_0x104a|     2023-12-01|    10|              9| 10000.0| 1000.0|  1000.0|        0.0| 1000.0|   2024-09-01|  9|                  0|             NULL|  0|       0|\n",
      "|CUS_0x105b_2023_1...| CUS_0x105b|     2023-11-01|    10|             10| 10000.0| 1000.0|  1000.0|        0.0|    0.0|   2024-09-01| 10|                  0|             NULL|  0|       0|\n",
      "|CUS_0x1063_2023_1...| CUS_0x1063|     2023-12-01|    10|              9| 10000.0| 1000.0|  1000.0|        0.0| 1000.0|   2024-09-01|  9|                  0|             NULL|  0|       0|\n",
      "|CUS_0x107c_2023_1...| CUS_0x107c|     2023-11-01|    10|             10| 10000.0| 1000.0|  1000.0|        0.0|    0.0|   2024-09-01| 10|                  0|             NULL|  0|       0|\n",
      "|CUS_0x10d7_2023_1...| CUS_0x10d7|     2023-12-01|    10|              9| 10000.0| 1000.0|     0.0|     6000.0| 7000.0|   2024-09-01|  9|                  6|       2024-03-01|184|       1|\n",
      "|CUS_0x10fd_2023_1...| CUS_0x10fd|     2023-12-01|    10|              9| 10000.0| 1000.0|     0.0|     6000.0| 7000.0|   2024-09-01|  9|                  6|       2024-03-01|184|       1|\n",
      "|CUS_0x1107_2023_1...| CUS_0x1107|     2023-11-01|    10|             10| 10000.0| 1000.0|     0.0|    10000.0|10000.0|   2024-09-01| 10|                 10|       2023-11-01|305|       1|\n",
      "|CUS_0x1139_2023_1...| CUS_0x1139|     2023-12-01|    10|              9| 10000.0| 1000.0|  1000.0|        0.0| 1000.0|   2024-09-01|  9|                  0|             NULL|  0|       0|\n",
      "|CUS_0x117f_2023_1...| CUS_0x117f|     2023-11-01|    10|             10| 10000.0| 1000.0|  1000.0|        0.0|    0.0|   2024-09-01| 10|                  0|             NULL|  0|       0|\n",
      "|CUS_0x11a4_2023_1...| CUS_0x11a4|     2023-11-01|    10|             10| 10000.0| 1000.0|     0.0|     8000.0| 8000.0|   2024-09-01| 10|                  8|       2024-01-01|244|       1|\n",
      "|CUS_0x1207_2023_1...| CUS_0x1207|     2023-12-01|    10|              9| 10000.0| 1000.0|     0.0|     6000.0| 7000.0|   2024-09-01|  9|                  6|       2024-03-01|184|       1|\n",
      "|CUS_0x123d_2023_1...| CUS_0x123d|     2023-11-01|    10|             10| 10000.0| 1000.0|     0.0|     8000.0| 8000.0|   2024-09-01| 10|                  8|       2024-01-01|244|       1|\n",
      "|CUS_0x1250_2023_1...| CUS_0x1250|     2023-12-01|    10|              9| 10000.0| 1000.0|  1000.0|        0.0| 1000.0|   2024-09-01|  9|                  0|             NULL|  0|       0|\n",
      "|CUS_0x1281_2023_1...| CUS_0x1281|     2023-11-01|    10|             10| 10000.0| 1000.0|     0.0|     7000.0| 7000.0|   2024-09-01| 10|                  7|       2024-02-01|213|       1|\n",
      "|CUS_0x12f2_2023_1...| CUS_0x12f2|     2023-12-01|    10|              9| 10000.0| 1000.0|     0.0|     5000.0| 6000.0|   2024-09-01|  9|                  5|       2024-04-01|153|       1|\n",
      "|CUS_0x12fa_2023_1...| CUS_0x12fa|     2023-11-01|    10|             10| 10000.0| 1000.0|  1000.0|        0.0|    0.0|   2024-09-01| 10|                  0|             NULL|  0|       0|\n",
      "+--------------------+-----------+---------------+------+---------------+--------+-------+--------+-----------+-------+-------------+---+-------------------+-----------------+---+--------+\n",
      "only showing top 20 rows\n",
      "\n"
     ]
    }
   ],
   "source": [
    "df.show()"
   ]
  },
  {
   "cell_type": "markdown",
   "id": "ead0f944-4925-4548-aac4-45806444362f",
   "metadata": {},
   "source": [
    "## Build Gold Table for labels"
   ]
  },
  {
   "cell_type": "code",
   "execution_count": 19,
   "id": "c47300e1-55e6-4a39-bb26-c6a961d4b98b",
   "metadata": {},
   "outputs": [],
   "source": [
    "# create gold datalake\n",
    "gold_label_store_directory = \"datamart/gold/label_store/\"\n",
    "\n",
    "if not os.path.exists(gold_label_store_directory):\n",
    "    os.makedirs(gold_label_store_directory)"
   ]
  },
  {
   "cell_type": "code",
   "execution_count": 20,
   "id": "d82486a5-552a-44e9-bfe5-e6ec3ab14f5b",
   "metadata": {},
   "outputs": [
    {
     "name": "stdout",
     "output_type": "stream",
     "text": [
      "loaded from: datamart/silver/loan_daily/silver_loan_daily_2023_01_01.parquet row count: 530\n"
     ]
    },
    {
     "name": "stderr",
     "output_type": "stream",
     "text": [
      "                                                                                "
     ]
    },
    {
     "name": "stdout",
     "output_type": "stream",
     "text": [
      "saved to: datamart/gold/label_store/gold_label_store_2023_01_01.parquet\n",
      "loaded from: datamart/silver/loan_daily/silver_loan_daily_2023_02_01.parquet row count: 1031\n"
     ]
    },
    {
     "name": "stderr",
     "output_type": "stream",
     "text": [
      "                                                                                "
     ]
    },
    {
     "name": "stdout",
     "output_type": "stream",
     "text": [
      "saved to: datamart/gold/label_store/gold_label_store_2023_02_01.parquet\n",
      "loaded from: datamart/silver/loan_daily/silver_loan_daily_2023_03_01.parquet row count: 1537\n",
      "saved to: datamart/gold/label_store/gold_label_store_2023_03_01.parquet\n",
      "loaded from: datamart/silver/loan_daily/silver_loan_daily_2023_04_01.parquet row count: 2047\n",
      "saved to: datamart/gold/label_store/gold_label_store_2023_04_01.parquet\n",
      "loaded from: datamart/silver/loan_daily/silver_loan_daily_2023_05_01.parquet row count: 2568\n",
      "saved to: datamart/gold/label_store/gold_label_store_2023_05_01.parquet\n",
      "loaded from: datamart/silver/loan_daily/silver_loan_daily_2023_06_01.parquet row count: 3085\n"
     ]
    },
    {
     "name": "stderr",
     "output_type": "stream",
     "text": [
      "                                                                                "
     ]
    },
    {
     "name": "stdout",
     "output_type": "stream",
     "text": [
      "saved to: datamart/gold/label_store/gold_label_store_2023_06_01.parquet\n",
      "loaded from: datamart/silver/loan_daily/silver_loan_daily_2023_07_01.parquet row count: 3556\n"
     ]
    },
    {
     "name": "stderr",
     "output_type": "stream",
     "text": [
      "                                                                                "
     ]
    },
    {
     "name": "stdout",
     "output_type": "stream",
     "text": [
      "saved to: datamart/gold/label_store/gold_label_store_2023_07_01.parquet\n",
      "loaded from: datamart/silver/loan_daily/silver_loan_daily_2023_08_01.parquet row count: 4037\n"
     ]
    },
    {
     "name": "stderr",
     "output_type": "stream",
     "text": [
      "                                                                                "
     ]
    },
    {
     "name": "stdout",
     "output_type": "stream",
     "text": [
      "saved to: datamart/gold/label_store/gold_label_store_2023_08_01.parquet\n",
      "loaded from: datamart/silver/loan_daily/silver_loan_daily_2023_09_01.parquet row count: 4491\n"
     ]
    },
    {
     "name": "stderr",
     "output_type": "stream",
     "text": [
      "                                                                                "
     ]
    },
    {
     "name": "stdout",
     "output_type": "stream",
     "text": [
      "saved to: datamart/gold/label_store/gold_label_store_2023_09_01.parquet\n",
      "loaded from: datamart/silver/loan_daily/silver_loan_daily_2023_10_01.parquet row count: 4978\n"
     ]
    },
    {
     "name": "stderr",
     "output_type": "stream",
     "text": [
      "                                                                                "
     ]
    },
    {
     "name": "stdout",
     "output_type": "stream",
     "text": [
      "saved to: datamart/gold/label_store/gold_label_store_2023_10_01.parquet\n",
      "loaded from: datamart/silver/loan_daily/silver_loan_daily_2023_11_01.parquet row count: 5469\n"
     ]
    },
    {
     "name": "stderr",
     "output_type": "stream",
     "text": [
      "                                                                                "
     ]
    },
    {
     "name": "stdout",
     "output_type": "stream",
     "text": [
      "saved to: datamart/gold/label_store/gold_label_store_2023_11_01.parquet\n",
      "loaded from: datamart/silver/loan_daily/silver_loan_daily_2023_12_01.parquet row count: 5428\n"
     ]
    },
    {
     "name": "stderr",
     "output_type": "stream",
     "text": [
      "                                                                                "
     ]
    },
    {
     "name": "stdout",
     "output_type": "stream",
     "text": [
      "saved to: datamart/gold/label_store/gold_label_store_2023_12_01.parquet\n",
      "loaded from: datamart/silver/loan_daily/silver_loan_daily_2024_01_01.parquet row count: 5412\n"
     ]
    },
    {
     "name": "stderr",
     "output_type": "stream",
     "text": [
      "                                                                                "
     ]
    },
    {
     "name": "stdout",
     "output_type": "stream",
     "text": [
      "saved to: datamart/gold/label_store/gold_label_store_2024_01_01.parquet\n",
      "loaded from: datamart/silver/loan_daily/silver_loan_daily_2024_02_01.parquet row count: 5424\n"
     ]
    },
    {
     "name": "stderr",
     "output_type": "stream",
     "text": [
      "                                                                                "
     ]
    },
    {
     "name": "stdout",
     "output_type": "stream",
     "text": [
      "saved to: datamart/gold/label_store/gold_label_store_2024_02_01.parquet\n",
      "loaded from: datamart/silver/loan_daily/silver_loan_daily_2024_03_01.parquet row count: 5425\n"
     ]
    },
    {
     "name": "stderr",
     "output_type": "stream",
     "text": [
      "                                                                                "
     ]
    },
    {
     "name": "stdout",
     "output_type": "stream",
     "text": [
      "saved to: datamart/gold/label_store/gold_label_store_2024_03_01.parquet\n",
      "loaded from: datamart/silver/loan_daily/silver_loan_daily_2024_04_01.parquet row count: 5417\n"
     ]
    },
    {
     "name": "stderr",
     "output_type": "stream",
     "text": [
      "                                                                                "
     ]
    },
    {
     "name": "stdout",
     "output_type": "stream",
     "text": [
      "saved to: datamart/gold/label_store/gold_label_store_2024_04_01.parquet\n",
      "loaded from: datamart/silver/loan_daily/silver_loan_daily_2024_05_01.parquet row count: 5391\n"
     ]
    },
    {
     "name": "stderr",
     "output_type": "stream",
     "text": [
      "                                                                                "
     ]
    },
    {
     "name": "stdout",
     "output_type": "stream",
     "text": [
      "saved to: datamart/gold/label_store/gold_label_store_2024_05_01.parquet\n",
      "loaded from: datamart/silver/loan_daily/silver_loan_daily_2024_06_01.parquet row count: 5418\n"
     ]
    },
    {
     "name": "stderr",
     "output_type": "stream",
     "text": [
      "                                                                                "
     ]
    },
    {
     "name": "stdout",
     "output_type": "stream",
     "text": [
      "saved to: datamart/gold/label_store/gold_label_store_2024_06_01.parquet\n",
      "loaded from: datamart/silver/loan_daily/silver_loan_daily_2024_07_01.parquet row count: 5442\n"
     ]
    },
    {
     "name": "stderr",
     "output_type": "stream",
     "text": [
      "                                                                                "
     ]
    },
    {
     "name": "stdout",
     "output_type": "stream",
     "text": [
      "saved to: datamart/gold/label_store/gold_label_store_2024_07_01.parquet\n",
      "loaded from: datamart/silver/loan_daily/silver_loan_daily_2024_08_01.parquet row count: 5531\n"
     ]
    },
    {
     "name": "stderr",
     "output_type": "stream",
     "text": [
      "                                                                                "
     ]
    },
    {
     "name": "stdout",
     "output_type": "stream",
     "text": [
      "saved to: datamart/gold/label_store/gold_label_store_2024_08_01.parquet\n",
      "loaded from: datamart/silver/loan_daily/silver_loan_daily_2024_09_01.parquet row count: 5537\n"
     ]
    },
    {
     "name": "stderr",
     "output_type": "stream",
     "text": [
      "                                                                                "
     ]
    },
    {
     "name": "stdout",
     "output_type": "stream",
     "text": [
      "saved to: datamart/gold/label_store/gold_label_store_2024_09_01.parquet\n",
      "loaded from: datamart/silver/loan_daily/silver_loan_daily_2024_10_01.parquet row count: 5502\n",
      "saved to: datamart/gold/label_store/gold_label_store_2024_10_01.parquet\n",
      "loaded from: datamart/silver/loan_daily/silver_loan_daily_2024_11_01.parquet row count: 5501\n"
     ]
    },
    {
     "name": "stderr",
     "output_type": "stream",
     "text": [
      "                                                                                "
     ]
    },
    {
     "name": "stdout",
     "output_type": "stream",
     "text": [
      "saved to: datamart/gold/label_store/gold_label_store_2024_11_01.parquet\n",
      "loaded from: datamart/silver/loan_daily/silver_loan_daily_2024_12_01.parquet row count: 5531\n"
     ]
    },
    {
     "name": "stderr",
     "output_type": "stream",
     "text": [
      "                                                                                "
     ]
    },
    {
     "name": "stdout",
     "output_type": "stream",
     "text": [
      "saved to: datamart/gold/label_store/gold_label_store_2024_12_01.parquet\n",
      "loaded from: datamart/silver/loan_daily/silver_loan_daily_2025_01_01.parquet row count: 5539\n"
     ]
    },
    {
     "name": "stderr",
     "output_type": "stream",
     "text": [
      "                                                                                "
     ]
    },
    {
     "name": "stdout",
     "output_type": "stream",
     "text": [
      "saved to: datamart/gold/label_store/gold_label_store_2025_01_01.parquet\n",
      "loaded from: datamart/silver/loan_daily/silver_loan_daily_2025_02_01.parquet row count: 5028\n"
     ]
    },
    {
     "name": "stderr",
     "output_type": "stream",
     "text": [
      "                                                                                "
     ]
    },
    {
     "name": "stdout",
     "output_type": "stream",
     "text": [
      "saved to: datamart/gold/label_store/gold_label_store_2025_02_01.parquet\n",
      "loaded from: datamart/silver/loan_daily/silver_loan_daily_2025_03_01.parquet row count: 4515\n"
     ]
    },
    {
     "name": "stderr",
     "output_type": "stream",
     "text": [
      "                                                                                "
     ]
    },
    {
     "name": "stdout",
     "output_type": "stream",
     "text": [
      "saved to: datamart/gold/label_store/gold_label_store_2025_03_01.parquet\n",
      "loaded from: datamart/silver/loan_daily/silver_loan_daily_2025_04_01.parquet row count: 4024\n"
     ]
    },
    {
     "name": "stderr",
     "output_type": "stream",
     "text": [
      "                                                                                "
     ]
    },
    {
     "name": "stdout",
     "output_type": "stream",
     "text": [
      "saved to: datamart/gold/label_store/gold_label_store_2025_04_01.parquet\n",
      "loaded from: datamart/silver/loan_daily/silver_loan_daily_2025_05_01.parquet row count: 3526\n"
     ]
    },
    {
     "name": "stderr",
     "output_type": "stream",
     "text": [
      "                                                                                "
     ]
    },
    {
     "name": "stdout",
     "output_type": "stream",
     "text": [
      "saved to: datamart/gold/label_store/gold_label_store_2025_05_01.parquet\n",
      "loaded from: datamart/silver/loan_daily/silver_loan_daily_2025_06_01.parquet row count: 3021\n",
      "saved to: datamart/gold/label_store/gold_label_store_2025_06_01.parquet\n",
      "loaded from: datamart/silver/loan_daily/silver_loan_daily_2025_07_01.parquet row count: 2478\n"
     ]
    },
    {
     "name": "stderr",
     "output_type": "stream",
     "text": [
      "                                                                                "
     ]
    },
    {
     "name": "stdout",
     "output_type": "stream",
     "text": [
      "saved to: datamart/gold/label_store/gold_label_store_2025_07_01.parquet\n",
      "loaded from: datamart/silver/loan_daily/silver_loan_daily_2025_08_01.parquet row count: 1985\n"
     ]
    },
    {
     "name": "stderr",
     "output_type": "stream",
     "text": [
      "                                                                                "
     ]
    },
    {
     "name": "stdout",
     "output_type": "stream",
     "text": [
      "saved to: datamart/gold/label_store/gold_label_store_2025_08_01.parquet\n",
      "loaded from: datamart/silver/loan_daily/silver_loan_daily_2025_09_01.parquet row count: 1529\n"
     ]
    },
    {
     "name": "stderr",
     "output_type": "stream",
     "text": [
      "                                                                                "
     ]
    },
    {
     "name": "stdout",
     "output_type": "stream",
     "text": [
      "saved to: datamart/gold/label_store/gold_label_store_2025_09_01.parquet\n",
      "loaded from: datamart/silver/loan_daily/silver_loan_daily_2025_10_01.parquet row count: 1041\n"
     ]
    },
    {
     "name": "stderr",
     "output_type": "stream",
     "text": [
      "                                                                                "
     ]
    },
    {
     "name": "stdout",
     "output_type": "stream",
     "text": [
      "saved to: datamart/gold/label_store/gold_label_store_2025_10_01.parquet\n",
      "loaded from: datamart/silver/loan_daily/silver_loan_daily_2025_11_01.parquet row count: 526\n"
     ]
    },
    {
     "name": "stderr",
     "output_type": "stream",
     "text": [
      "                                                                                "
     ]
    },
    {
     "name": "stdout",
     "output_type": "stream",
     "text": [
      "saved to: datamart/gold/label_store/gold_label_store_2025_11_01.parquet\n",
      "No record found on Date: 2025-12-01\n"
     ]
    }
   ],
   "source": [
    "# run gold backfill\n",
    "for date_str in dates_str_lst:\n",
    "    utils.data_processing_gold_table.process_labels_gold_table_label_store(date_str, silver_loan_daily_directory, gold_label_store_directory, spark, dpd = 30, mob = 6)"
   ]
  },
  {
   "cell_type": "code",
   "execution_count": 21,
   "id": "92412468-6a08-4a23-8feb-36a1a3893392",
   "metadata": {},
   "outputs": [
    {
     "name": "stdout",
     "output_type": "stream",
     "text": [
      "loaded from: datamart/silver/loan_daily/silver_loan_daily_2023_01_01.parquet row count: 530\n"
     ]
    },
    {
     "name": "stderr",
     "output_type": "stream",
     "text": [
      "                                                                                "
     ]
    },
    {
     "name": "stdout",
     "output_type": "stream",
     "text": [
      "saved to: datamart/gold/label_store/gold_label_store_2023_01_01.parquet\n"
     ]
    },
    {
     "data": {
      "text/plain": [
       "[('loan_id', 'string'),\n",
       " ('Customer_ID', 'string'),\n",
       " ('label', 'int'),\n",
       " ('label_def', 'string'),\n",
       " ('snapshot_date', 'date')]"
      ]
     },
     "execution_count": 21,
     "metadata": {},
     "output_type": "execute_result"
    }
   ],
   "source": [
    "utils.data_processing_gold_table.process_labels_gold_table_label_store(dates_str_lst[0], silver_loan_daily_directory, gold_label_store_directory, spark, dpd = 30, mob = 6).dtypes"
   ]
  },
  {
   "cell_type": "code",
   "execution_count": 22,
   "id": "100c8f4b-63b8-44d3-9a71-b65a26a21f2e",
   "metadata": {},
   "outputs": [
    {
     "name": "stderr",
     "output_type": "stream",
     "text": [
      "                                                                                "
     ]
    },
    {
     "name": "stdout",
     "output_type": "stream",
     "text": [
      "row_count: 12500\n"
     ]
    },
    {
     "name": "stderr",
     "output_type": "stream",
     "text": [
      "                                                                                "
     ]
    },
    {
     "name": "stdout",
     "output_type": "stream",
     "text": [
      "Unique Customer_IDs: 12500\n",
      "+--------------------+-----------+-----+----------+-------------+\n",
      "|             loan_id|Customer_ID|label| label_def|snapshot_date|\n",
      "+--------------------+-----------+-----+----------+-------------+\n",
      "|CUS_0x10ac_2024_0...| CUS_0x10ac|    0|30dpd_6mob|   2025-02-01|\n",
      "|CUS_0x10c5_2024_0...| CUS_0x10c5|    1|30dpd_6mob|   2025-02-01|\n",
      "|CUS_0x1145_2024_0...| CUS_0x1145|    1|30dpd_6mob|   2025-02-01|\n",
      "|CUS_0x11ac_2024_0...| CUS_0x11ac|    0|30dpd_6mob|   2025-02-01|\n",
      "|CUS_0x122c_2024_0...| CUS_0x122c|    0|30dpd_6mob|   2025-02-01|\n",
      "|CUS_0x1274_2024_0...| CUS_0x1274|    1|30dpd_6mob|   2025-02-01|\n",
      "|CUS_0x1288_2024_0...| CUS_0x1288|    1|30dpd_6mob|   2025-02-01|\n",
      "|CUS_0x12cc_2024_0...| CUS_0x12cc|    1|30dpd_6mob|   2025-02-01|\n",
      "|CUS_0x1338_2024_0...| CUS_0x1338|    0|30dpd_6mob|   2025-02-01|\n",
      "|CUS_0x1370_2024_0...| CUS_0x1370|    1|30dpd_6mob|   2025-02-01|\n",
      "|CUS_0x1378_2024_0...| CUS_0x1378|    1|30dpd_6mob|   2025-02-01|\n",
      "|CUS_0x139b_2024_0...| CUS_0x139b|    0|30dpd_6mob|   2025-02-01|\n",
      "|CUS_0x13a9_2024_0...| CUS_0x13a9|    0|30dpd_6mob|   2025-02-01|\n",
      "|CUS_0x13ce_2024_0...| CUS_0x13ce|    0|30dpd_6mob|   2025-02-01|\n",
      "|CUS_0x147a_2024_0...| CUS_0x147a|    0|30dpd_6mob|   2025-02-01|\n",
      "|CUS_0x1510_2024_0...| CUS_0x1510|    1|30dpd_6mob|   2025-02-01|\n",
      "|CUS_0x1572_2024_0...| CUS_0x1572|    0|30dpd_6mob|   2025-02-01|\n",
      "|CUS_0x159b_2024_0...| CUS_0x159b|    0|30dpd_6mob|   2025-02-01|\n",
      "|CUS_0x15f1_2024_0...| CUS_0x15f1|    0|30dpd_6mob|   2025-02-01|\n",
      "|CUS_0x1621_2024_0...| CUS_0x1621|    0|30dpd_6mob|   2025-02-01|\n",
      "+--------------------+-----------+-----+----------+-------------+\n",
      "only showing top 20 rows\n",
      "\n"
     ]
    }
   ],
   "source": [
    "folder_path = gold_label_store_directory\n",
    "files_list = [folder_path+os.path.basename(f) for f in glob.glob(os.path.join(folder_path, '*'))]\n",
    "df = spark.read.option(\"header\", \"true\").parquet(*files_list)\n",
    "print(\"row_count:\",df.count())\n",
    "\n",
    "unique_count = df.select(\"Customer_ID\").distinct().count()\n",
    "print(\"Unique Customer_IDs:\", unique_count)\n",
    "\n",
    "df.show()"
   ]
  },
  {
   "cell_type": "code",
   "execution_count": 23,
   "id": "40301412-1521-4da5-b967-e5a5d266be5c",
   "metadata": {},
   "outputs": [
    {
     "name": "stdout",
     "output_type": "stream",
     "text": [
      "root\n",
      " |-- loan_id: string (nullable = true)\n",
      " |-- Customer_ID: string (nullable = true)\n",
      " |-- label: integer (nullable = true)\n",
      " |-- label_def: string (nullable = true)\n",
      " |-- snapshot_date: date (nullable = true)\n",
      "\n"
     ]
    }
   ],
   "source": [
    "df.printSchema()"
   ]
  },
  {
   "cell_type": "markdown",
   "id": "1b6ae63a-0607-4894-93cc-abbafc46af84",
   "metadata": {},
   "source": [
    "## Build Gold Table for features"
   ]
  },
  {
   "cell_type": "code",
   "execution_count": 24,
   "id": "6a781ec8-fbaf-43cb-9342-b7513c6f240a",
   "metadata": {},
   "outputs": [],
   "source": [
    "# create gold datalake\n",
    "gold_feature_store_directory = \"datamart/gold/feature_store/\"\n",
    "\n",
    "if not os.path.exists(gold_feature_store_directory):\n",
    "    os.makedirs(gold_feature_store_directory)"
   ]
  },
  {
   "cell_type": "code",
   "execution_count": 25,
   "id": "c4b45820-5609-405c-b526-b5d8bab6f299",
   "metadata": {},
   "outputs": [
    {
     "name": "stdout",
     "output_type": "stream",
     "text": [
      "loaded from: datamart/silver/customer/silver_customer.parquet row count: 12500\n"
     ]
    },
    {
     "name": "stderr",
     "output_type": "stream",
     "text": [
      "                                                                                "
     ]
    },
    {
     "name": "stdout",
     "output_type": "stream",
     "text": [
      "saved to: datamart/gold/feature_store/gold_feature_store.parquet\n",
      "root\n",
      " |-- Customer_ID: string (nullable = true)\n",
      " |-- Age: integer (nullable = true)\n",
      " |-- Annual_Income: float (nullable = true)\n",
      " |-- Monthly_Inhand_Salary: float (nullable = true)\n",
      " |-- Num_Bank_Accounts: integer (nullable = true)\n",
      " |-- Num_Credit_Card: integer (nullable = true)\n",
      " |-- Interest_Rate: float (nullable = true)\n",
      " |-- Num_of_Loan: integer (nullable = true)\n",
      " |-- Delay_from_due_date: integer (nullable = true)\n",
      " |-- Num_of_Delayed_Payment: integer (nullable = true)\n",
      " |-- Changed_Credit_Limit: float (nullable = true)\n",
      " |-- Num_Credit_Inquiries: integer (nullable = true)\n",
      " |-- Outstanding_Debt: float (nullable = true)\n",
      " |-- Credit_Utilization_Ratio: float (nullable = true)\n",
      " |-- Total_EMI_per_month: float (nullable = true)\n",
      " |-- Amount_invested_monthly: float (nullable = true)\n",
      " |-- Monthly_Balance: float (nullable = true)\n",
      " |-- Credit_History_Months: integer (nullable = true)\n",
      " |-- spending_scale: integer (nullable = true)\n",
      " |-- value_payments_scale: integer (nullable = true)\n",
      " |-- Credit_Mix_scale: integer (nullable = true)\n",
      " |-- is_payment_min_amount_yes: integer (nullable = true)\n",
      " |-- is_payment_min_amount_no: integer (nullable = true)\n",
      " |-- debt_to_income_ratio: double (nullable = true)\n",
      " |-- income_to_emi_ratio: double (nullable = true)\n",
      " |-- emi_to_balance_ratio: double (nullable = true)\n",
      "\n"
     ]
    }
   ],
   "source": [
    "utils.data_processing_gold_table.process_labels_gold_table_feature_store(silver_customer_directory, gold_feature_store_directory, spark).printSchema()"
   ]
  },
  {
   "cell_type": "code",
   "execution_count": null,
   "id": "a8043a2b-1f41-44d6-ac9d-4d940e160bfb",
   "metadata": {},
   "outputs": [],
   "source": []
  },
  {
   "cell_type": "markdown",
   "id": "1a1f2a8e-21e0-4173-91b5-4ca07039f080",
   "metadata": {},
   "source": [
    "<!-- ## Build Gold Table for features -->"
   ]
  }
 ],
 "metadata": {
  "kernelspec": {
   "display_name": "Python 3 (ipykernel)",
   "language": "python",
   "name": "python3"
  },
  "language_info": {
   "codemirror_mode": {
    "name": "ipython",
    "version": 3
   },
   "file_extension": ".py",
   "mimetype": "text/x-python",
   "name": "python",
   "nbconvert_exporter": "python",
   "pygments_lexer": "ipython3",
   "version": "3.12.10"
  }
 },
 "nbformat": 4,
 "nbformat_minor": 5
}
