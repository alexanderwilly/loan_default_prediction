{
 "cells": [
  {
   "cell_type": "code",
   "execution_count": 2,
   "id": "45239786-c991-4439-8623-3cdb092580bb",
   "metadata": {},
   "outputs": [
    {
     "name": "stdout",
     "output_type": "stream",
     "text": [
      "Done!\n"
     ]
    }
   ],
   "source": [
    "import os\n",
    "import glob\n",
    "import pandas as pd\n",
    "import matplotlib.pyplot as plt\n",
    "import numpy as np\n",
    "import random\n",
    "from datetime import datetime, timedelta\n",
    "from dateutil.relativedelta import relativedelta\n",
    "import pprint\n",
    "import pyspark\n",
    "import pyspark.sql.functions as F\n",
    "\n",
    "from pyspark.sql.functions import col\n",
    "from pyspark.sql.types import StringType, IntegerType, FloatType, DateType\n",
    "\n",
    "# import utils.data_processing_bronze_table\n",
    "# import utils.data_processing_silver_table\n",
    "# import utils.data_processing_gold_table\n",
    "print('Done!')"
   ]
  },
  {
   "cell_type": "markdown",
   "id": "f17c466c-a6f1-4b53-b8a5-a7bbad7503cf",
   "metadata": {},
   "source": [
    "## Set up PySpark session"
   ]
  },
  {
   "cell_type": "code",
   "execution_count": null,
   "id": "42e5226e-97b2-40cb-980f-5b4156586cda",
   "metadata": {},
   "outputs": [],
   "source": []
  }
 ],
 "metadata": {
  "kernelspec": {
   "display_name": "Python 3 (ipykernel)",
   "language": "python",
   "name": "python3"
  },
  "language_info": {
   "codemirror_mode": {
    "name": "ipython",
    "version": 3
   },
   "file_extension": ".py",
   "mimetype": "text/x-python",
   "name": "python",
   "nbconvert_exporter": "python",
   "pygments_lexer": "ipython3",
   "version": "3.12.10"
  }
 },
 "nbformat": 4,
 "nbformat_minor": 5
}
